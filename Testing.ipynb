{
 "cells": [
  {
   "cell_type": "code",
   "execution_count": 1,
   "id": "49634641",
   "metadata": {},
   "outputs": [
    {
     "name": "stderr",
     "output_type": "stream",
     "text": [
      "\u001b[34m\u001b[1mwandb\u001b[0m: Currently logged in as: \u001b[33maaquib111\u001b[0m. Use \u001b[1m`wandb login --relogin`\u001b[0m to force relogin\n"
     ]
    },
    {
     "data": {
      "text/html": [
       "wandb version 0.13.10 is available!  To upgrade, please run:\n",
       " $ pip install wandb --upgrade"
      ],
      "text/plain": [
       "<IPython.core.display.HTML object>"
      ]
     },
     "metadata": {},
     "output_type": "display_data"
    },
    {
     "data": {
      "text/html": [
       "Tracking run with wandb version 0.13.7"
      ],
      "text/plain": [
       "<IPython.core.display.HTML object>"
      ]
     },
     "metadata": {},
     "output_type": "display_data"
    },
    {
     "data": {
      "text/html": [
       "Run data is saved locally in <code>/gs/gsfs0/home/asyed/pw/jobs/ICLR/wandb/run-20230216_191255-1umqdjb6</code>"
      ],
      "text/plain": [
       "<IPython.core.display.HTML object>"
      ]
     },
     "metadata": {},
     "output_type": "display_data"
    },
    {
     "data": {
      "text/html": [
       "Syncing run <strong><a href=\"https://wandb.ai/aaquib111/ICLR/runs/1umqdjb6\" target=\"_blank\">Perplexity Test</a></strong> to <a href=\"https://wandb.ai/aaquib111/ICLR\" target=\"_blank\">Weights & Biases</a> (<a href=\"https://wandb.me/run\" target=\"_blank\">docs</a>)<br/>"
      ],
      "text/plain": [
       "<IPython.core.display.HTML object>"
      ]
     },
     "metadata": {},
     "output_type": "display_data"
    },
    {
     "data": {
      "text/html": [
       "<button onClick=\"this.nextSibling.style.display='block';this.style.display='none';\">Display W&B run</button><iframe src=\"https://wandb.ai/aaquib111/ICLR/runs/1umqdjb6?jupyter=true\" style=\"border:none;width:100%;height:420px;display:none;\"></iframe>"
      ],
      "text/plain": [
       "<wandb.sdk.wandb_run.Run at 0x7ff8678bd370>"
      ]
     },
     "execution_count": 1,
     "metadata": {},
     "output_type": "execute_result"
    }
   ],
   "source": [
    "import wandb\n",
    "wandb.login()"
   ]
  },
  {
   "cell_type": "code",
   "execution_count": 2,
   "id": "920b176e",
   "metadata": {},
   "outputs": [
    {
     "name": "stderr",
     "output_type": "stream",
     "text": [
      "Found cached dataset wikitext (/gs/gsfs0/users/asyed/.cache/huggingface/datasets/wikitext/wikitext-2-v1/1.0.0/a241db52902eaf2c6aa732210bead40c090019a499ceb13bcbfa3f8ab646a126)\n",
      "  0%|                                                    | 0/19 [00:00<?, ?it/s]"
     ]
    }
   ],
   "source": [
    "from tqdm import tqdm\n",
    "from save_pruned_model import load_into_model\n",
    "import torch\n",
    "from torch.nn.utils import prune\n",
    "from transformers import AutoTokenizer, OPTForCausalLM\n",
    "from datasets import load_dataset\n",
    "import gc\n",
    "\n",
    "# Constants\n",
    "device = 'cuda' if torch.cuda.is_available() else 'cpu'\n",
    "model_name = \"opt-125m\"\n",
    "token_length=4096\n",
    "stride = 4096\n",
    "\n",
    "wandb.init(project=\"ICLR\", name = f'{model_name} Wikitext Test', config={'token_length': token_length,\n",
    "                                                             'model_name': model_name,\n",
    "                                                             'stride': stride})\n",
    "# Load tokenizer\n",
    "tokenizer = AutoTokenizer.from_pretrained(f'facebook/{model_name}', \n",
    "                                          padding_side='left', \n",
    "                                          use_fast=False)\n",
    "# Load dataset\n",
    "test_set = load_dataset('wikitext', 'wikitext-2-raw-v1', split='test')\n",
    "encodings = tokenizer(\"\\n\\n\".join(test_set['text']), return_tensors='pt')"
   ]
  },
  {
   "cell_type": "markdown",
   "id": "b8d8c963",
   "metadata": {},
   "source": [
    "tokenized_test = tokenizer(test_set['text'])\n",
    "\n",
    "flattened_input_ids = [item for sublist in tokenized_test.input_ids for item in sublist]\n",
    "flattened_input_ids = flattened_input_ids[:(len(flattened_input_ids) - (len(flattened_input_ids) % token_length))]\n",
    "flattened_input_ids = torch.Tensor(flattened_input_ids).reshape(-1, token_length).type(torch.LongTensor).to(device=device)\n",
    "\n",
    "flattened_masks = [item for sublist in tokenized_test.attention_mask for item in sublist]\n",
    "flattened_masks = flattened_masks[:(len(flattened_masks) - (len(flattened_masks) % token_length))]\n",
    "flattened_masks = torch.Tensor(flattened_masks).reshape(-1, token_length).type(torch.LongTensor).to(device=device)\n",
    "\n",
    "test_dict = {'input_ids': flattened_input_ids, 'attention_mask': flattened_masks}\n",
    "\n",
    "from torch.utils.data import Dataset, DataLoader, SequentialSampler\n",
    "\n",
    "# Create dataset\n",
    "class WikiSet(Dataset):\n",
    "    '''\n",
    "        Dataset that concatenates the CC and MLO view right or left images of the breast tissue \n",
    "        into a single 1024x1024 image.\n",
    "    '''\n",
    "    \n",
    "    def __init__(self, test_dict):\n",
    "        self.test_dict = test_dict\n",
    "        \n",
    "    def __len__(self):\n",
    "        return len(self.test_dict['input_ids'])\n",
    "    \n",
    "    def __getitem__(self, idx):\n",
    "        input_ids = self.test_dict['input_ids'][idx]\n",
    "        attention_mask = self.test_dict['attention_mask'][idx]\n",
    "        \n",
    "        return input_ids, attention_mask\n",
    "    \n",
    "wikiset = WikiSet(test_dict)\n",
    "sampler = SequentialSampler(wikiset)\n",
    "loader = DataLoader(wikiset, batch_size=batch_size, sampler=sampler)\n",
    "loop = tqdm(loader)"
   ]
  },
  {
   "cell_type": "code",
   "execution_count": null,
   "id": "b8ffc28f",
   "metadata": {},
   "outputs": [],
   "source": [
    "import numpy as np\n",
    "\n",
    "seq_len = encodings.input_ids.size(1)\n",
    "SPARSITIES = [0.1, 0.2, 0.3, 0.4, 0.5, 0.7, 0.9, 1]#, 0.4, 0.6, 0.8, 1\n",
    "\n",
    "for SPARSITY in SPARSITIES:\n",
    "    loaded_model = OPTForCausalLM.from_pretrained(f'facebook/{model_name}', output_attentions=True, output_hidden_states=True).to(device=device) # type: ignore\n",
    "    \n",
    "    if SPARSITY != 1:\n",
    "        load_into_model(loaded_model, f'pruned_models/{model_name}-{SPARSITY}.pt')\n",
    "    loaded_model = torch.nn.DataParallel(loaded_model, device_ids=[0,1,2,3])\n",
    "    loaded_model.eval()\n",
    "    _ = loaded_model(torch.randint(high=20, size=(1,10)))\n",
    "    \n",
    "    nlls = []\n",
    "    prev_end_loc = 0\n",
    "    for begin_loc in tqdm(range(0, seq_len, stride)):\n",
    "        end_loc = min(begin_loc + token_length, seq_len)\n",
    "        trg_len = end_loc - prev_end_loc\n",
    "        input_ids = encodings.input_ids[:, begin_loc:end_loc].to(device=device)\n",
    "        target_ids = input_ids.clone()\n",
    "        target_ids[:,:-trg_len] = -100\n",
    "        \n",
    "        with torch.no_grad():\n",
    "            outputs = loaded_model(input_ids, labels=target_ids)\n",
    "            neg_log_likelihood = outputs.loss * trg_len\n",
    "            \n",
    "        nlls.append(neg_log_likelihood)\n",
    "        \n",
    "        prev_end_loc = end_loc\n",
    "        if end_loc == seq_len:\n",
    "            break\n",
    "            \n",
    "    ppl = torch.exp(torch.stack(nlls).sum() / end_loc)\n",
    "    wandb.log({\"perplexity\": ppl, 'density': SPARSITY})\n",
    "    \n",
    "    del loaded_model\n",
    "    gc.collect()\n",
    "    torch.cuda.empty_cache()"
   ]
  }
 ],
 "metadata": {
  "kernelspec": {
   "display_name": "Python 3 (ipykernel)",
   "language": "python",
   "name": "python3"
  },
  "language_info": {
   "codemirror_mode": {
    "name": "ipython",
    "version": 3
   },
   "file_extension": ".py",
   "mimetype": "text/x-python",
   "name": "python",
   "nbconvert_exporter": "python",
   "pygments_lexer": "ipython3",
   "version": "3.9.7"
  }
 },
 "nbformat": 4,
 "nbformat_minor": 5
}
