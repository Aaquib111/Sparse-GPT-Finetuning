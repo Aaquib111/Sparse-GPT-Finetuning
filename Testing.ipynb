{
 "cells": [
  {
   "cell_type": "code",
   "execution_count": null,
   "id": "f6a48a44",
   "metadata": {},
   "outputs": [],
   "source": [
    "import wandb\n",
    "wandb.login()\n",
    "wandb.init(project=\"ICLR\", name = 'Perplexity Test')"
   ]
  },
  {
   "cell_type": "code",
   "execution_count": null,
   "id": "ba785b6d",
   "metadata": {},
   "outputs": [],
   "source": [
    "from tqdm import tqdm\n",
    "from save_pruned_model import load_into_model\n",
    "import torch\n",
    "from torch.nn.utils import prune\n",
    "from transformers import AutoTokenizer, OPTForCausalLM\n",
    "from datasets import load_dataset\n",
    "import gc\n",
    "\n",
    "#DEVICE\n",
    "device = 'cuda' if torch.cuda.is_available() else 'cpu'\n",
    "\n",
    "model_name = \"opt-125m\"\n",
    "token_length=1024\n",
    "\n",
    "# Load tokenizer\n",
    "tokenizer = AutoTokenizer.from_pretrained(f'facebook/{model_name}', padding_side='left')\n",
    "\n",
    "#test_set = load_dataset('wikitext', 'wikitext-2-v1', split='test[:10%]')\n",
    "test_set = load_dataset('wikitext', 'wikitext-2-v1', split='test')\n",
    "tokenized_test = tokenizer(test_set['text'])\n",
    "\n",
    "flattened_input_ids = [item for sublist in tokenized_test.input_ids for item in sublist]\n",
    "flattened_input_ids = flattened_input_ids[:(len(flattened_input_ids) - (len(flattened_input_ids) % token_length))]\n",
    "flattened_input_ids = torch.Tensor(flattened_input_ids).reshape(-1, token_length).type(torch.LongTensor).to(device=device)\n",
    "\n",
    "flattened_masks = [item for sublist in tokenized_test.attention_mask for item in sublist]\n",
    "flattened_masks = flattened_masks[:(len(flattened_masks) - (len(flattened_masks) % token_length))]\n",
    "flattened_masks = torch.Tensor(flattened_masks).reshape(-1, token_length).type(torch.LongTensor).to(device=device)\n",
    "\n",
    "test_dict = {'input_ids': flattened_input_ids, 'attention_mask': flattened_masks}\n",
    "\n",
    "from torch.utils.data import Dataset, DataLoader, SequentialSampler\n",
    "\n",
    "# Create dataset\n",
    "class WikiSet(Dataset):\n",
    "    '''\n",
    "        Dataset that concatenates the CC and MLO view right or left images of the breast tissue \n",
    "        into a single 1024x1024 image.\n",
    "    '''\n",
    "    \n",
    "    def __init__(self, test_dict):\n",
    "        self.test_dict = test_dict\n",
    "        \n",
    "    def __len__(self):\n",
    "        return len(self.test_dict['input_ids'])\n",
    "    \n",
    "    def __getitem__(self, idx):\n",
    "        input_ids = self.test_dict['input_ids'][idx]\n",
    "        attention_mask = self.test_dict['attention_mask'][idx]\n",
    "        \n",
    "        return input_ids, attention_mask\n",
    "    \n",
    "wikiset = WikiSet(test_dict)\n",
    "sampler = SequentialSampler(wikiset)\n",
    "loader = DataLoader(wikiset, batch_size=16, sampler=sampler)\n",
    "loop = tqdm(loader)"
   ]
  },
  {
   "cell_type": "code",
   "execution_count": null,
   "id": "f6680e7e",
   "metadata": {},
   "outputs": [],
   "source": [
    "for SPARSITY in [0.2, 0.4, 0.6, 0.8, 1]:\n",
    "    loaded_model = OPTForCausalLM.from_pretrained(f'facebook/{model_name}', output_attentions=True, output_hidden_states=True).to(device=device) # type: ignore\n",
    "    \n",
    "    if SPARSITY != 1:\n",
    "        load_into_model(loaded_model, f'pruned_models/{model_name}-{SPARSITY}.pt')\n",
    "    loaded_model = torch.nn.DataParallel(loaded_model, device_ids=[0,1,2,3])\n",
    "    loaded_model.eval()\n",
    "    perp_sparse = 0\n",
    "    for batch_idx, (input_ids, attention_mask) in enumerate(loop):\n",
    "        batch_dict = {'input_ids': input_ids,'attention_mask':attention_mask}\n",
    "        with torch.no_grad():\n",
    "            sparse_output = loaded_model(**batch_dict, labels=batch_dict['input_ids'])\n",
    "            perp_sparse += torch.exp(sparse_output.loss)\n",
    "    perp_sparse /= len(wikiset)\n",
    "    wandb.log({\"sparse_perplexity\": perp_sparse, 'sparsity': SPARSITY})\n",
    "    del loaded_model\n",
    "    gc.collect()\n",
    "    torch.cuda.empty_cache()"
   ]
  }
 ],
 "metadata": {
  "kernelspec": {
   "display_name": "Python 3 (ipykernel)",
   "language": "python",
   "name": "python3"
  },
  "language_info": {
   "codemirror_mode": {
    "name": "ipython",
    "version": 3
   },
   "file_extension": ".py",
   "mimetype": "text/x-python",
   "name": "python",
   "nbconvert_exporter": "python",
   "pygments_lexer": "ipython3",
   "version": "3.9.7"
  }
 },
 "nbformat": 4,
 "nbformat_minor": 5
}
