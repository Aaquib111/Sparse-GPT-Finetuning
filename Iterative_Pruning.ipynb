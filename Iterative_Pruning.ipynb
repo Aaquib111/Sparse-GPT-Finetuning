{
 "cells": [
  {
   "cell_type": "code",
   "execution_count": 1,
   "metadata": {},
   "outputs": [
    {
     "name": "stderr",
     "output_type": "stream",
     "text": [
      "c:\\Users\\phill\\anaconda3\\envs\\pyt-exp\\lib\\site-packages\\tqdm\\auto.py:22: TqdmWarning: IProgress not found. Please update jupyter and ipywidgets. See https://ipywidgets.readthedocs.io/en/stable/user_install.html\n",
      "  from .autonotebook import tqdm as notebook_tqdm\n"
     ]
    }
   ],
   "source": [
    "import torch\n",
    "from torch.nn.utils import prune\n",
    "\n",
    "from tqdm import tqdm\n",
    "\n",
    "from transformers import AutoTokenizer, OPTForCausalLM, pipeline\n",
    "from datasets import load_dataset\n",
    "\n",
    "from utils.prune_utils import sparsegpt_prune"
   ]
  },
  {
   "cell_type": "code",
   "execution_count": 2,
   "metadata": {},
   "outputs": [],
   "source": [
    "#DEVICE\n",
    "device = 'cuda' if torch.cuda.is_available() else 'cpu'\n",
    "\n",
    "model_size = \"opt-125m\"\n",
    "\n",
    "model_name = f\"facebook/{model_size}\"\n",
    "\n",
    "#Load dataset\n",
    "dataset = load_dataset('wikitext', \"wikitext-2-raw-v1\", streaming=True)\n",
    "\n",
    "# Load tokenizer\n",
    "tokenizer = AutoTokenizer.from_pretrained(model_name, padding_side='left')"
   ]
  },
  {
   "cell_type": "code",
   "execution_count": 3,
   "metadata": {
    "scrolled": true
   },
   "outputs": [],
   "source": [
    "# Calibrate model (get inputs to each layer with calibration data)\n",
    "\n",
    "calibration_size=4\n",
    "token_length=1024\n",
    "calibration_batch_size=2\n",
    "\n",
    "EPSILON = 0.01\n",
    "B = 4\n",
    "Bs = 2\n",
    "\n",
    "# run model on batches of calibration data, then concatenate inputs\n",
    "def split_model_calibration(model):\n",
    "    batch_sentences = []\n",
    "    for i, data in tqdm(enumerate(iter(dataset['train'])), total=calibration_size):\n",
    "        if i < calibration_size + 1:\n",
    "            if len(batch_sentences) >= calibration_batch_size:\n",
    "                with torch.no_grad():\n",
    "                    encoded_input = tokenizer(batch_sentences, return_tensors=\"pt\",\n",
    "                                              padding=\"max_length\", max_length=token_length,\n",
    "                                              truncation=True).to(device=device)\n",
    "                    model(**encoded_input, labels=encoded_input.input_ids)\n",
    "                    batch_sentences = []\n",
    "            batch_sentences.append(data['text'])\n",
    "        else:\n",
    "            break"
   ]
  },
  {
   "cell_type": "markdown",
   "metadata": {},
   "source": [
    "# Sparsify Model"
   ]
  },
  {
   "cell_type": "code",
   "execution_count": 4,
   "metadata": {},
   "outputs": [
    {
     "name": "stderr",
     "output_type": "stream",
     "text": [
      "5it [00:05,  1.09s/it]                       \n"
     ]
    },
    {
     "name": "stdout",
     "output_type": "stream",
     "text": [
      "memory allocated before pruning: 502228992\n"
     ]
    },
    {
     "name": "stderr",
     "output_type": "stream",
     "text": [
      "100%|██████████| 196/196 [00:50<00:00,  3.85it/s]\n"
     ]
    },
    {
     "name": "stdout",
     "output_type": "stream",
     "text": [
      "memory allocated before fine tuning: 502228992\n"
     ]
    },
    {
     "name": "stderr",
     "output_type": "stream",
     "text": [
      "  0%|          | 0/10 [00:00<?, ?it/s]Asking to pad to max_length but no maximum length is provided and the model has no predefined maximum length. Default to no padding.\n",
      "Asking to truncate to max_length but no maximum length is provided and the model has no predefined maximum length. Default to no truncation.\n"
     ]
    },
    {
     "name": "stdout",
     "output_type": "stream",
     "text": [
      "max memory during batch: 1825327104\n",
      "max memory during batch: 3722486784\n",
      "max memory during batch: 3184641536\n",
      "max memory during batch: 3411198976\n"
     ]
    },
    {
     "name": "stderr",
     "output_type": "stream",
     "text": [
      " 10%|█         | 1/10 [00:06<00:57,  6.39s/it]"
     ]
    },
    {
     "name": "stdout",
     "output_type": "stream",
     "text": [
      "max memory during batch: 3370840576\n",
      "memory allocated after epoch: 2729281024\n",
      "max memory during batch: 3334405120\n",
      "max memory during batch: 3728124928\n",
      "max memory during batch: 3185484288\n",
      "max memory during batch: 3412511744\n",
      "max memory during batch: 3371279872\n"
     ]
    },
    {
     "name": "stderr",
     "output_type": "stream",
     "text": [
      " 20%|██        | 2/10 [00:10<00:42,  5.29s/it]"
     ]
    },
    {
     "name": "stdout",
     "output_type": "stream",
     "text": [
      "memory allocated after epoch: 2726964736\n",
      "max memory during batch: 3335440384\n",
      "max memory during batch: 3730997248\n",
      "max memory during batch: 3184476672\n",
      "max memory during batch: 3407294464\n",
      "max memory during batch: 3370164736\n"
     ]
    },
    {
     "name": "stderr",
     "output_type": "stream",
     "text": [
      " 30%|███       | 3/10 [00:15<00:34,  4.96s/it]"
     ]
    },
    {
     "name": "stdout",
     "output_type": "stream",
     "text": [
      "memory allocated after epoch: 2729281024\n",
      "max memory during batch: 3333839872\n",
      "max memory during batch: 3732876800\n",
      "max memory during batch: 3187583488\n",
      "max memory during batch: 3414560256\n",
      "max memory during batch: 3370270208\n"
     ]
    },
    {
     "name": "stderr",
     "output_type": "stream",
     "text": [
      " 40%|████      | 4/10 [00:20<00:28,  4.82s/it]"
     ]
    },
    {
     "name": "stdout",
     "output_type": "stream",
     "text": [
      "memory allocated after epoch: 2727875072\n",
      "max memory during batch: 3332915200\n",
      "max memory during batch: 3729937408\n",
      "max memory during batch: 3186563584\n",
      "max memory during batch: 3409532416\n",
      "max memory during batch: 3368755712\n"
     ]
    },
    {
     "name": "stderr",
     "output_type": "stream",
     "text": [
      " 50%|█████     | 5/10 [00:24<00:23,  4.72s/it]"
     ]
    },
    {
     "name": "stdout",
     "output_type": "stream",
     "text": [
      "memory allocated after epoch: 2726668800\n",
      "max memory during batch: 3334323200\n",
      "max memory during batch: 3731910144\n",
      "max memory during batch: 3185325568\n",
      "max memory during batch: 3409117184\n"
     ]
    },
    {
     "name": "stderr",
     "output_type": "stream",
     "text": [
      " 60%|██████    | 6/10 [00:29<00:18,  4.66s/it]"
     ]
    },
    {
     "name": "stdout",
     "output_type": "stream",
     "text": [
      "max memory during batch: 3369355776\n",
      "memory allocated after epoch: 2728188416\n",
      "max memory during batch: 3332850688\n",
      "max memory during batch: 3731148800\n",
      "max memory during batch: 3184067072\n",
      "max memory during batch: 3411408896\n",
      "max memory during batch: 3367992832\n"
     ]
    },
    {
     "name": "stderr",
     "output_type": "stream",
     "text": [
      " 70%|███████   | 7/10 [00:33<00:13,  4.62s/it]"
     ]
    },
    {
     "name": "stdout",
     "output_type": "stream",
     "text": [
      "memory allocated after epoch: 2727124480\n",
      "max memory during batch: 3332811776\n",
      "max memory during batch: 3732649984\n",
      "max memory during batch: 3184017920\n",
      "max memory during batch: 3411425280\n",
      "max memory during batch: 3368806912\n"
     ]
    },
    {
     "name": "stderr",
     "output_type": "stream",
     "text": [
      " 80%|████████  | 8/10 [00:38<00:09,  4.60s/it]"
     ]
    },
    {
     "name": "stdout",
     "output_type": "stream",
     "text": [
      "memory allocated after epoch: 2726323712\n",
      "max memory during batch: 3332570112\n",
      "max memory during batch: 3730759168\n",
      "max memory during batch: 3185777152\n",
      "max memory during batch: 3408865280\n",
      "max memory during batch: 3369061888\n"
     ]
    },
    {
     "name": "stderr",
     "output_type": "stream",
     "text": [
      " 90%|█████████ | 9/10 [00:42<00:04,  4.60s/it]"
     ]
    },
    {
     "name": "stdout",
     "output_type": "stream",
     "text": [
      "memory allocated after epoch: 2728477184\n",
      "max memory during batch: 3336590336\n",
      "max memory during batch: 3730469376\n",
      "max memory during batch: 3188997632\n",
      "max memory during batch: 3412296704\n"
     ]
    },
    {
     "name": "stderr",
     "output_type": "stream",
     "text": [
      "100%|██████████| 10/10 [00:47<00:00,  4.74s/it]"
     ]
    },
    {
     "name": "stdout",
     "output_type": "stream",
     "text": [
      "max memory during batch: 3369910784\n",
      "memory allocated after epoch: 2726430208\n"
     ]
    },
    {
     "name": "stderr",
     "output_type": "stream",
     "text": [
      "\n"
     ]
    },
    {
     "name": "stdout",
     "output_type": "stream",
     "text": [
      "memory allocated: 1003693056\n",
      "proportion zeros: 0.1009114608168602\n"
     ]
    },
    {
     "name": "stderr",
     "output_type": "stream",
     "text": [
      "5it [00:07,  1.43s/it]                       \n"
     ]
    },
    {
     "name": "stdout",
     "output_type": "stream",
     "text": [
      "memory allocated before pruning: 502993920\n"
     ]
    },
    {
     "name": "stderr",
     "output_type": "stream",
     "text": [
      "100%|██████████| 196/196 [00:51<00:00,  3.78it/s]\n"
     ]
    },
    {
     "name": "stdout",
     "output_type": "stream",
     "text": [
      "memory allocated before fine tuning: 502228992\n"
     ]
    },
    {
     "name": "stderr",
     "output_type": "stream",
     "text": [
      "  0%|          | 0/10 [00:00<?, ?it/s]"
     ]
    },
    {
     "name": "stdout",
     "output_type": "stream",
     "text": [
      "max memory during batch: 1827162112\n",
      "max memory during batch: 3722540032\n",
      "max memory during batch: 3186822656\n",
      "max memory during batch: 3409554432\n",
      "max memory during batch: 3369180672\n"
     ]
    },
    {
     "name": "stderr",
     "output_type": "stream",
     "text": [
      " 10%|█         | 1/10 [00:04<00:44,  4.93s/it]"
     ]
    },
    {
     "name": "stdout",
     "output_type": "stream",
     "text": [
      "memory allocated after epoch: 2727946752\n",
      "max memory during batch: 3333452800\n",
      "max memory during batch: 3732768768\n",
      "max memory during batch: 3186133504\n",
      "max memory during batch: 3410338304\n"
     ]
    },
    {
     "name": "stderr",
     "output_type": "stream",
     "text": [
      " 20%|██        | 2/10 [00:09<00:38,  4.76s/it]"
     ]
    },
    {
     "name": "stdout",
     "output_type": "stream",
     "text": [
      "max memory during batch: 3372814336\n",
      "memory allocated after epoch: 2729612288\n",
      "max memory during batch: 3336914432\n",
      "max memory during batch: 3732587008\n",
      "max memory during batch: 3187034112\n",
      "max memory during batch: 3412694528\n"
     ]
    },
    {
     "name": "stderr",
     "output_type": "stream",
     "text": [
      " 30%|███       | 3/10 [00:14<00:32,  4.68s/it]"
     ]
    },
    {
     "name": "stdout",
     "output_type": "stream",
     "text": [
      "max memory during batch: 3372651008\n",
      "memory allocated after epoch: 2729210368\n",
      "max memory during batch: 3335597568\n",
      "max memory during batch: 3729841152\n",
      "max memory during batch: 3187325440\n",
      "max memory during batch: 3414098944\n",
      "max memory during batch: 3373518336\n"
     ]
    },
    {
     "name": "stderr",
     "output_type": "stream",
     "text": [
      " 40%|████      | 4/10 [00:18<00:28,  4.68s/it]"
     ]
    },
    {
     "name": "stdout",
     "output_type": "stream",
     "text": [
      "memory allocated after epoch: 2730931712\n",
      "max memory during batch: 3336486912\n",
      "max memory during batch: 3734632448\n",
      "max memory during batch: 3187015168\n",
      "max memory during batch: 3415277568\n",
      "max memory during batch: 3374604288\n"
     ]
    },
    {
     "name": "stderr",
     "output_type": "stream",
     "text": [
      " 50%|█████     | 5/10 [00:23<00:23,  4.63s/it]"
     ]
    },
    {
     "name": "stdout",
     "output_type": "stream",
     "text": [
      "memory allocated after epoch: 2730892288\n",
      "max memory during batch: 3336123392\n",
      "max memory during batch: 3730751488\n",
      "max memory during batch: 3188776448\n",
      "max memory during batch: 3413292032\n",
      "max memory during batch: 3369784832\n"
     ]
    },
    {
     "name": "stderr",
     "output_type": "stream",
     "text": [
      " 60%|██████    | 6/10 [00:28<00:18,  4.64s/it]"
     ]
    },
    {
     "name": "stdout",
     "output_type": "stream",
     "text": [
      "memory allocated after epoch: 2729885184\n",
      "max memory during batch: 3334389760\n",
      "max memory during batch: 3730408448\n",
      "max memory during batch: 3187119104\n",
      "max memory during batch: 3414403584\n"
     ]
    },
    {
     "name": "stderr",
     "output_type": "stream",
     "text": [
      " 70%|███████   | 7/10 [00:32<00:13,  4.66s/it]"
     ]
    },
    {
     "name": "stdout",
     "output_type": "stream",
     "text": [
      "max memory during batch: 3370396160\n",
      "memory allocated after epoch: 2728561152\n",
      "max memory during batch: 3338322944\n",
      "max memory during batch: 3729020416\n",
      "max memory during batch: 3186503168\n",
      "max memory during batch: 3412751872\n",
      "max memory during batch: 3371387392\n"
     ]
    },
    {
     "name": "stderr",
     "output_type": "stream",
     "text": [
      " 80%|████████  | 8/10 [00:37<00:09,  4.66s/it]"
     ]
    },
    {
     "name": "stdout",
     "output_type": "stream",
     "text": [
      "memory allocated after epoch: 2730749440\n",
      "max memory during batch: 3336848384\n",
      "max memory during batch: 3731456000\n",
      "max memory during batch: 3186087424\n",
      "max memory during batch: 3409763328\n",
      "max memory during batch: 3371624960\n"
     ]
    },
    {
     "name": "stderr",
     "output_type": "stream",
     "text": [
      " 90%|█████████ | 9/10 [00:42<00:04,  4.65s/it]"
     ]
    },
    {
     "name": "stdout",
     "output_type": "stream",
     "text": [
      "memory allocated after epoch: 2730001920\n",
      "max memory during batch: 3334942720\n",
      "max memory during batch: 3730339840\n",
      "max memory during batch: 3186465792\n",
      "max memory during batch: 3411646464\n",
      "max memory during batch: 3369982464\n"
     ]
    },
    {
     "name": "stderr",
     "output_type": "stream",
     "text": [
      "100%|██████████| 10/10 [00:46<00:00,  4.66s/it]"
     ]
    },
    {
     "name": "stdout",
     "output_type": "stream",
     "text": [
      "memory allocated after epoch: 2728095232\n"
     ]
    },
    {
     "name": "stderr",
     "output_type": "stream",
     "text": [
      "\n"
     ]
    },
    {
     "name": "stdout",
     "output_type": "stream",
     "text": [
      "memory allocated: 1005854720\n",
      "proportion zeros: 0.30078125\n"
     ]
    },
    {
     "name": "stderr",
     "output_type": "stream",
     "text": [
      "5it [00:07,  1.44s/it]                       \n"
     ]
    },
    {
     "name": "stdout",
     "output_type": "stream",
     "text": [
      "memory allocated before pruning: 503236608\n"
     ]
    },
    {
     "name": "stderr",
     "output_type": "stream",
     "text": [
      " 38%|███▊      | 75/196 [00:18<00:27,  4.33it/s]"
     ]
    }
   ],
   "source": [
    "# from iterative_prune_finetune import iterative_sparsegpt_prune_tune\n",
    "from utils.prehook_utils import put_input_hooks,remove_all_hooks\n",
    "from utils.prune_utils import sparsegpt_prune\n",
    "from utils.finetune_utils import finetune_model_inplace\n",
    "from utils.save_utils import unmask_model\n",
    "from utils.save_utils import mask_from_pruned, unmask_model\n",
    "import gc\n",
    "\n",
    "def get_prop_zeros(model):\n",
    "    return torch.sum(model.get_decoder().layers[0].self_attn.k_proj.weight == 0) / torch.numel(model.get_decoder().layers[0].self_attn.k_proj.weight)\n",
    "\n",
    "SPARSITIES = [0.9, 0.7, 0.5, 0.3, 0.2]#0.1, 0.2,0.3,0.5,0.7,0.9,1\n",
    "for SPARSENESS in SPARSITIES:\n",
    "    model = OPTForCausalLM.from_pretrained(f'facebook/{model_size}', \n",
    "                                       output_attentions=True, \n",
    "                                       output_hidden_states=True).to(device=device)\n",
    "    # model = torch.nn.DataParallel(model, device_ids=[0,1,2,3])\n",
    "\n",
    "    feature_hessians = {}\n",
    "    #put_input_hooks(model=model, features=feature_hessians, storage_dir=storage_dir, offload_freq=10000, feature_storage_device='cpu')\n",
    "    all_hooks = put_input_hooks(model=model, features=feature_hessians, feature_storage_device='cpu')\n",
    "    split_model_calibration(model)\n",
    "    for hook in all_hooks:\n",
    "        hook.remove()\n",
    "    print(f\"memory allocated before pruning: {torch.cuda.memory_allocated()}\")\n",
    "    sparsegpt_prune(model=model, model_name=model_size, \n",
    "                    feature_hessians=feature_hessians, \n",
    "                    EPSILON=EPSILON, SPARSENESS=SPARSENESS, B=B, Bs=Bs, save_model=False)\n",
    "    feature_hessians.clear()\n",
    "    gc.collect()\n",
    "    torch.cuda.empty_cache()\n",
    "    print(f\"memory allocated before fine tuning: {torch.cuda.memory_allocated()}\")\n",
    "    mask_from_pruned(model=model)\n",
    "    finetune_model_inplace(model=model, tokenizer=tokenizer, \n",
    "                           SPARSITY=SPARSENESS, device=device, EPOCH_COUNT=10)\n",
    "    unmask_model(model=model)\n",
    "    torch.cuda.empty_cache()\n",
    "    #unmask_model(model=model)\n",
    "    pruned_model_name = f'{model_size}-finetuned-{SPARSENESS}'\n",
    "    torch.save(model.state_dict(), f'pruned_models/{pruned_model_name}-iterative.pt')\n",
    "    print(f\"memory allocated: {torch.cuda.memory_allocated()}\")\n",
    "    print(f\"proportion zeros: {get_prop_zeros(model)}\")\n",
    "# Prune using the sparseGPT method, saves as pruned_models/{model_name}-{SPARSENESS}.pt WITHOUT mask\n",
    "#iterative_sparsegpt_prune_tune(model, model_size, SPARSITIES, feature_hessians, EPSILON, B, Bs, tokenizer, EPOCH_COUNT=10)\n"
   ]
  },
  {
   "cell_type": "code",
   "execution_count": 6,
   "metadata": {},
   "outputs": [
    {
     "name": "stdout",
     "output_type": "stream",
     "text": [
      "model.decoder.project_in\n",
      "model.decoder.layers.0.self_attn.in_proj\n",
      "model.decoder.layers.0.self_attn.out_proj\n",
      "model.decoder.layers.0.fc1\n",
      "model.decoder.layers.0.fc2\n",
      "model.decoder.layers.1.self_attn.in_proj\n",
      "model.decoder.layers.1.self_attn.out_proj\n",
      "model.decoder.layers.1.fc1\n",
      "model.decoder.layers.1.fc2\n",
      "model.decoder.layers.2.self_attn.in_proj\n",
      "model.decoder.layers.2.self_attn.out_proj\n",
      "model.decoder.layers.2.fc1\n",
      "model.decoder.layers.2.fc2\n",
      "model.decoder.layers.3.self_attn.in_proj\n",
      "model.decoder.layers.3.self_attn.out_proj\n",
      "model.decoder.layers.3.fc1\n",
      "model.decoder.layers.3.fc2\n",
      "model.decoder.layers.4.self_attn.in_proj\n",
      "model.decoder.layers.4.self_attn.out_proj\n",
      "model.decoder.layers.4.fc1\n",
      "model.decoder.layers.4.fc2\n",
      "model.decoder.layers.5.self_attn.in_proj\n",
      "model.decoder.layers.5.self_attn.out_proj\n",
      "model.decoder.layers.5.fc1\n",
      "model.decoder.layers.5.fc2\n",
      "model.decoder.layers.6.self_attn.in_proj\n",
      "model.decoder.layers.6.self_attn.out_proj\n",
      "model.decoder.layers.6.fc1\n",
      "model.decoder.layers.6.fc2\n",
      "model.decoder.layers.7.self_attn.in_proj\n",
      "model.decoder.layers.7.self_attn.out_proj\n",
      "model.decoder.layers.7.fc1\n",
      "model.decoder.layers.7.fc2\n",
      "model.decoder.layers.8.self_attn.in_proj\n",
      "model.decoder.layers.8.self_attn.out_proj\n",
      "model.decoder.layers.8.fc1\n",
      "model.decoder.layers.8.fc2\n",
      "model.decoder.layers.9.self_attn.in_proj\n",
      "model.decoder.layers.9.self_attn.out_proj\n",
      "model.decoder.layers.9.fc1\n",
      "model.decoder.layers.9.fc2\n",
      "model.decoder.layers.10.self_attn.in_proj\n",
      "model.decoder.layers.10.self_attn.out_proj\n",
      "model.decoder.layers.10.fc1\n",
      "model.decoder.layers.10.fc2\n",
      "model.decoder.layers.11.self_attn.in_proj\n",
      "model.decoder.layers.11.self_attn.out_proj\n",
      "model.decoder.layers.11.fc1\n",
      "model.decoder.layers.11.fc2\n",
      "model.decoder.layers.12.self_attn.in_proj\n",
      "model.decoder.layers.12.self_attn.out_proj\n",
      "model.decoder.layers.12.fc1\n",
      "model.decoder.layers.12.fc2\n",
      "model.decoder.layers.13.self_attn.in_proj\n",
      "model.decoder.layers.13.self_attn.out_proj\n",
      "model.decoder.layers.13.fc1\n",
      "model.decoder.layers.13.fc2\n",
      "model.decoder.layers.14.self_attn.in_proj\n",
      "model.decoder.layers.14.self_attn.out_proj\n",
      "model.decoder.layers.14.fc1\n",
      "model.decoder.layers.14.fc2\n",
      "model.decoder.layers.15.self_attn.in_proj\n",
      "model.decoder.layers.15.self_attn.out_proj\n",
      "model.decoder.layers.15.fc1\n",
      "model.decoder.layers.15.fc2\n",
      "model.decoder.layers.16.self_attn.in_proj\n",
      "model.decoder.layers.16.self_attn.out_proj\n",
      "model.decoder.layers.16.fc1\n",
      "model.decoder.layers.16.fc2\n",
      "model.decoder.layers.17.self_attn.in_proj\n",
      "model.decoder.layers.17.self_attn.out_proj\n",
      "model.decoder.layers.17.fc1\n",
      "model.decoder.layers.17.fc2\n",
      "model.decoder.layers.18.self_attn.in_proj\n",
      "model.decoder.layers.18.self_attn.out_proj\n",
      "model.decoder.layers.18.fc1\n",
      "model.decoder.layers.18.fc2\n",
      "model.decoder.layers.19.self_attn.in_proj\n",
      "model.decoder.layers.19.self_attn.out_proj\n",
      "model.decoder.layers.19.fc1\n",
      "model.decoder.layers.19.fc2\n",
      "model.decoder.layers.20.self_attn.in_proj\n",
      "model.decoder.layers.20.self_attn.out_proj\n",
      "model.decoder.layers.20.fc1\n",
      "model.decoder.layers.20.fc2\n",
      "model.decoder.layers.21.self_attn.in_proj\n",
      "model.decoder.layers.21.self_attn.out_proj\n",
      "model.decoder.layers.21.fc1\n",
      "model.decoder.layers.21.fc2\n",
      "model.decoder.layers.22.self_attn.in_proj\n",
      "model.decoder.layers.22.self_attn.out_proj\n",
      "model.decoder.layers.22.fc1\n",
      "model.decoder.layers.22.fc2\n",
      "model.decoder.layers.23.self_attn.in_proj\n",
      "model.decoder.layers.23.self_attn.out_proj\n",
      "model.decoder.layers.23.fc1\n",
      "model.decoder.layers.23.fc2\n",
      "model.decoder.project_out\n"
     ]
    }
   ],
   "source": [
    "for k in feature_hessians.keys():\n",
    "    print(k)"
   ]
  }
 ],
 "metadata": {
  "kernelspec": {
   "display_name": "Python 3 (ipykernel)",
   "language": "python",
   "name": "python3"
  },
  "language_info": {
   "codemirror_mode": {
    "name": "ipython",
    "version": 3
   },
   "file_extension": ".py",
   "mimetype": "text/x-python",
   "name": "python",
   "nbconvert_exporter": "python",
   "pygments_lexer": "ipython3",
   "version": "3.9.7"
  },
  "vscode": {
   "interpreter": {
    "hash": "01ca8e50707366aa71ffa41d1a1f13415d8b38eae741916c87480058f12910d2"
   }
  }
 },
 "nbformat": 4,
 "nbformat_minor": 2
}
