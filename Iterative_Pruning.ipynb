{
 "cells": [
  {
   "cell_type": "code",
   "execution_count": 1,
   "metadata": {},
   "outputs": [
    {
     "name": "stderr",
     "output_type": "stream",
     "text": [
      "c:\\Users\\phill\\anaconda3\\envs\\pyt-exp\\lib\\site-packages\\tqdm\\auto.py:22: TqdmWarning: IProgress not found. Please update jupyter and ipywidgets. See https://ipywidgets.readthedocs.io/en/stable/user_install.html\n",
      "  from .autonotebook import tqdm as notebook_tqdm\n"
     ]
    }
   ],
   "source": [
    "import torch\n",
    "from torch.nn.utils import prune\n",
    "\n",
    "from tqdm import tqdm\n",
    "\n",
    "from transformers import AutoTokenizer, OPTForCausalLM, pipeline\n",
    "from datasets import load_dataset\n",
    "\n",
    "from utils.prune_utils import sparsegpt_prune"
   ]
  },
  {
   "cell_type": "code",
   "execution_count": 2,
   "metadata": {},
   "outputs": [],
   "source": [
    "#DEVICE\n",
    "device = 'cuda' if torch.cuda.is_available() else 'cpu'\n",
    "\n",
    "#Load dataset\n",
    "dataset = load_dataset('c4', \"en\", streaming=True)"
   ]
  },
  {
   "cell_type": "code",
   "execution_count": 3,
   "metadata": {
    "scrolled": true
   },
   "outputs": [],
   "source": [
    "# Calibrate model (get inputs to each layer with calibration data)\n",
    "\n",
    "calibration_size=4\n",
    "token_length=512\n",
    "calibration_batch_size=2\n",
    "\n",
    "EPSILON = 0.01\n",
    "B = 4\n",
    "Bs = 2\n",
    "\n",
    "# run model on batches of calibration data, then concatenate inputs\n",
    "def split_model_calibration(model, tokenizer):\n",
    "    batch_sentences = []\n",
    "    for i, data in tqdm(enumerate(iter(dataset['train'])), total=calibration_size):\n",
    "        if i < calibration_size + 1:\n",
    "            if len(batch_sentences) >= calibration_batch_size:\n",
    "                with torch.no_grad():\n",
    "                    encoded_input = tokenizer(batch_sentences, return_tensors=\"pt\",\n",
    "                                              padding=\"max_length\", max_length=token_length,\n",
    "                                              truncation=True).to(device=device)\n",
    "                    model(**encoded_input, labels=encoded_input.input_ids)\n",
    "                    batch_sentences = []\n",
    "            batch_sentences.append(data['text'])\n",
    "        else:\n",
    "            break"
   ]
  },
  {
   "cell_type": "code",
   "execution_count": 4,
   "metadata": {},
   "outputs": [],
   "source": [
    "from collections import OrderedDict\n",
    "from typing import Dict, Callable\n",
    "import torch\n",
    "\n",
    "def remove_all_hooks(model: torch.nn.Module) -> None:\n",
    "    for name, child in model._modules.items():\n",
    "        if child is not None:\n",
    "            if hasattr(child, \"_forward_hooks\"):\n",
    "                child._forward_hooks: Dict[int, Callable] = OrderedDict()\n",
    "            elif hasattr(child, \"_forward_pre_hooks\"):\n",
    "                child._forward_pre_hooks: Dict[int, Callable] = OrderedDict()\n",
    "            elif hasattr(child, \"_backward_hooks\"):\n",
    "                child._backward_hooks: Dict[int, Callable] = OrderedDict()\n",
    "            remove_all_hooks(child)"
   ]
  },
  {
   "cell_type": "code",
   "execution_count": 5,
   "metadata": {
    "scrolled": true
   },
   "outputs": [
    {
     "name": "stdout",
     "output_type": "stream",
     "text": [
      "sparsity 1\n"
     ]
    },
    {
     "name": "stderr",
     "output_type": "stream",
     "text": [
      "5it [00:12,  2.42s/it]                       \n",
      "100%|██████████| 196/196 [00:50<00:00,  3.87it/s]\n"
     ]
    },
    {
     "name": "stdout",
     "output_type": "stream",
     "text": [
      "proportion of zeros: 0.0006510416860692203\n",
      "Memory allocated after pruning: 502228992\n",
      "DistributedType.NO\n"
     ]
    },
    {
     "name": "stderr",
     "output_type": "stream",
     "text": [
      "  0%|          | 0/1 [00:00<?, ?it/s]c:\\Users\\phill\\anaconda3\\envs\\pyt-exp\\lib\\site-packages\\torch\\cuda\\memory.py:282: FutureWarning: torch.cuda.reset_max_memory_allocated now calls torch.cuda.reset_peak_memory_stats, which resets /all/ peak memory stats.\n",
      "  warnings.warn(\n",
      "100%|██████████| 1/1 [00:17<00:00, 17.89s/it]"
     ]
    },
    {
     "name": "stdout",
     "output_type": "stream",
     "text": [
      "Memory before entering the train : 613\n",
      "Memory consumed at the end of the train (end-begin): 1757\n",
      "Peak Memory consumed during the train (max-begin): 2491\n",
      "Total Peak Memory consumed during the train (max): 3104\n"
     ]
    },
    {
     "name": "stderr",
     "output_type": "stream",
     "text": [
      "\n"
     ]
    },
    {
     "name": "stdout",
     "output_type": "stream",
     "text": [
      "proportion of zeros: 0.0006510416860692203\n",
      "Memory allocated after fine tuning: 2167001088\n",
      "sparsity 0.9\n"
     ]
    },
    {
     "name": "stderr",
     "output_type": "stream",
     "text": [
      "5it [00:13,  2.79s/it]                       \n",
      "100%|██████████| 196/196 [00:51<00:00,  3.82it/s]\n"
     ]
    },
    {
     "name": "stdout",
     "output_type": "stream",
     "text": [
      "proportion of zeros: 0.1009114608168602\n",
      "Memory allocated after pruning: 1164890112\n",
      "DistributedType.NO\n"
     ]
    },
    {
     "name": "stderr",
     "output_type": "stream",
     "text": [
      "100%|██████████| 1/1 [00:19<00:00, 19.07s/it]"
     ]
    },
    {
     "name": "stdout",
     "output_type": "stream",
     "text": [
      "Memory before entering the train : 1247\n",
      "Memory consumed at the end of the train (end-begin): 1276\n",
      "Peak Memory consumed during the train (max-begin): 2001\n",
      "Total Peak Memory consumed during the train (max): 3248\n"
     ]
    },
    {
     "name": "stderr",
     "output_type": "stream",
     "text": [
      "\n"
     ]
    },
    {
     "name": "stdout",
     "output_type": "stream",
     "text": [
      "proportion of zeros: 0.0006510416860692203\n",
      "Memory allocated after fine tuning: 2327171072\n",
      "sparsity 0.7\n"
     ]
    },
    {
     "name": "stderr",
     "output_type": "stream",
     "text": [
      "5it [00:14,  2.80s/it]                       \n",
      "100%|██████████| 196/196 [00:49<00:00,  3.95it/s]\n"
     ]
    },
    {
     "name": "stdout",
     "output_type": "stream",
     "text": [
      "proportion of zeros: 0.30078125\n",
      "Memory allocated after pruning: 1309849600\n",
      "DistributedType.NO\n"
     ]
    },
    {
     "name": "stderr",
     "output_type": "stream",
     "text": [
      "100%|██████████| 1/1 [00:20<00:00, 20.02s/it]"
     ]
    },
    {
     "name": "stdout",
     "output_type": "stream",
     "text": [
      "Memory before entering the train : 1384\n",
      "Memory consumed at the end of the train (end-begin): 1275\n",
      "Peak Memory consumed during the train (max-begin): 2002\n",
      "Total Peak Memory consumed during the train (max): 3386\n"
     ]
    },
    {
     "name": "stderr",
     "output_type": "stream",
     "text": [
      "\n"
     ]
    },
    {
     "name": "stdout",
     "output_type": "stream",
     "text": [
      "proportion of zeros: 0.0982937291264534\n",
      "Memory allocated after fine tuning: 2469509120\n",
      "sparsity 0.5\n"
     ]
    },
    {
     "name": "stderr",
     "output_type": "stream",
     "text": [
      "5it [00:13,  2.77s/it]                       \n",
      "100%|██████████| 196/196 [00:49<00:00,  3.96it/s]\n"
     ]
    },
    {
     "name": "stdout",
     "output_type": "stream",
     "text": [
      "proportion of zeros: 0.5006510615348816\n",
      "Memory allocated after pruning: 1451413504\n",
      "DistributedType.NO\n"
     ]
    },
    {
     "name": "stderr",
     "output_type": "stream",
     "text": [
      "100%|██████████| 1/1 [00:21<00:00, 21.09s/it]"
     ]
    },
    {
     "name": "stdout",
     "output_type": "stream",
     "text": [
      "Memory before entering the train : 1519\n",
      "Memory consumed at the end of the train (end-begin): 1276\n",
      "Peak Memory consumed during the train (max-begin): 2002\n",
      "Total Peak Memory consumed during the train (max): 3521\n"
     ]
    },
    {
     "name": "stderr",
     "output_type": "stream",
     "text": [
      "\n"
     ]
    },
    {
     "name": "stdout",
     "output_type": "stream",
     "text": [
      "proportion of zeros: 0.2971649169921875\n",
      "Memory allocated after fine tuning: 2610810880\n",
      "sparsity 0.3\n"
     ]
    },
    {
     "name": "stderr",
     "output_type": "stream",
     "text": [
      "5it [00:13,  2.79s/it]                       \n",
      "100%|██████████| 196/196 [00:49<00:00,  3.96it/s]\n"
     ]
    },
    {
     "name": "stdout",
     "output_type": "stream",
     "text": [
      "proportion of zeros: 0.701171875\n",
      "Memory allocated after pruning: 1594537984\n",
      "DistributedType.NO\n"
     ]
    },
    {
     "name": "stderr",
     "output_type": "stream",
     "text": [
      "100%|██████████| 1/1 [00:22<00:00, 22.11s/it]"
     ]
    },
    {
     "name": "stdout",
     "output_type": "stream",
     "text": [
      "Memory before entering the train : 1655\n",
      "Memory consumed at the end of the train (end-begin): 1273\n",
      "Peak Memory consumed during the train (max-begin): 2004\n",
      "Total Peak Memory consumed during the train (max): 3659\n"
     ]
    },
    {
     "name": "stderr",
     "output_type": "stream",
     "text": [
      "\n"
     ]
    },
    {
     "name": "stdout",
     "output_type": "stream",
     "text": [
      "proportion of zeros: 0.498291015625\n",
      "Memory allocated after fine tuning: 2753142784\n",
      "sparsity 0.2\n"
     ]
    },
    {
     "name": "stderr",
     "output_type": "stream",
     "text": [
      "5it [00:13,  2.78s/it]                       \n",
      "100%|██████████| 196/196 [00:49<00:00,  3.99it/s]\n"
     ]
    },
    {
     "name": "stdout",
     "output_type": "stream",
     "text": [
      "proportion of zeros: 0.80078125\n",
      "Memory allocated after pruning: 1735315456\n",
      "DistributedType.NO\n"
     ]
    },
    {
     "name": "stderr",
     "output_type": "stream",
     "text": [
      "100%|██████████| 1/1 [00:23<00:00, 23.18s/it]"
     ]
    },
    {
     "name": "stdout",
     "output_type": "stream",
     "text": [
      "Memory before entering the train : 1789\n",
      "Memory consumed at the end of the train (end-begin): 1275\n",
      "Peak Memory consumed during the train (max-begin): 2010\n",
      "Total Peak Memory consumed during the train (max): 3799\n"
     ]
    },
    {
     "name": "stderr",
     "output_type": "stream",
     "text": [
      "\n"
     ]
    },
    {
     "name": "stdout",
     "output_type": "stream",
     "text": [
      "proportion of zeros: 0.6992950439453125\n",
      "Memory allocated after fine tuning: 2893664256\n",
      "sparsity 1\n"
     ]
    },
    {
     "name": "stderr",
     "output_type": "stream",
     "text": [
      "5it [00:45,  9.12s/it]                       \n",
      "100%|██████████| 388/388 [02:33<00:00,  2.53it/s]\n"
     ]
    },
    {
     "name": "stdout",
     "output_type": "stream",
     "text": [
      "proportion of zeros: 0.00048828125\n",
      "Memory allocated after pruning: 3203231744\n",
      "DistributedType.NO\n"
     ]
    },
    {
     "name": "stderr",
     "output_type": "stream",
     "text": [
      "  0%|          | 0/1 [00:03<?, ?it/s]\n"
     ]
    },
    {
     "ename": "OutOfMemoryError",
     "evalue": "CUDA out of memory. Tried to allocate 20.00 MiB (GPU 0; 8.00 GiB total capacity; 7.25 GiB already allocated; 0 bytes free; 7.27 GiB reserved in total by PyTorch) If reserved memory is >> allocated memory try setting max_split_size_mb to avoid fragmentation.  See documentation for Memory Management and PYTORCH_CUDA_ALLOC_CONF",
     "output_type": "error",
     "traceback": [
      "\u001b[1;31m---------------------------------------------------------------------------\u001b[0m",
      "\u001b[1;31mOutOfMemoryError\u001b[0m                          Traceback (most recent call last)",
      "Cell \u001b[1;32mIn[5], line 66\u001b[0m\n\u001b[0;32m     49\u001b[0m \u001b[39m# for name, param in model.named_parameters():\u001b[39;00m\n\u001b[0;32m     50\u001b[0m \u001b[39m#     if 'weight' in name and check_whitelist(name):\u001b[39;00m\n\u001b[0;32m     51\u001b[0m \u001b[39m#         mask = param != 0\u001b[39;00m\n\u001b[1;32m   (...)\u001b[0m\n\u001b[0;32m     59\u001b[0m \u001b[39m#                       SPARSITY=SPARSENESS, device=device, EPOCH_COUNT=1, max_step=1000)\u001b[39;00m\n\u001b[0;32m     60\u001b[0m \u001b[39m#unmask_model(model=model)\u001b[39;00m\n\u001b[0;32m     61\u001b[0m config \u001b[39m=\u001b[39m {\u001b[39m\"\u001b[39m\u001b[39mmodel\u001b[39m\u001b[39m\"\u001b[39m: model, \u001b[39m\"\u001b[39m\u001b[39mlr\u001b[39m\u001b[39m\"\u001b[39m: \u001b[39m2e-5\u001b[39m, \u001b[39m\"\u001b[39m\u001b[39mnum_epochs\u001b[39m\u001b[39m\"\u001b[39m: \u001b[39m1\u001b[39m,\n\u001b[0;32m     62\u001b[0m           \u001b[39m\"\u001b[39m\u001b[39mseed\u001b[39m\u001b[39m\"\u001b[39m: \u001b[39m1\u001b[39m, \u001b[39m\"\u001b[39m\u001b[39mbatch_size\u001b[39m\u001b[39m\"\u001b[39m: \u001b[39m16\u001b[39m,\n\u001b[0;32m     63\u001b[0m           \u001b[39m'\u001b[39m\u001b[39mmodel_name\u001b[39m\u001b[39m'\u001b[39m: model_size,\n\u001b[0;32m     64\u001b[0m           \u001b[39m'\u001b[39m\u001b[39msparsity\u001b[39m\u001b[39m'\u001b[39m: SPARSENESS,\u001b[39m\"\u001b[39m\u001b[39mtrain_steps\u001b[39m\u001b[39m\"\u001b[39m: \u001b[39m100\u001b[39m,\n\u001b[0;32m     65\u001b[0m           \u001b[39m'\u001b[39m\u001b[39mmax_step\u001b[39m\u001b[39m'\u001b[39m: \u001b[39m100\u001b[39m, \u001b[39m'\u001b[39m\u001b[39msave_model\u001b[39m\u001b[39m'\u001b[39m: \u001b[39mFalse\u001b[39;00m}\n\u001b[1;32m---> 66\u001b[0m fsdp_finetune(config)\n\u001b[0;32m     67\u001b[0m \u001b[39m# fine_tune(model=model, EPOCH_COUNT=1, tokenizer=tokenizer)\u001b[39;00m\n\u001b[0;32m     68\u001b[0m \n\u001b[0;32m     69\u001b[0m \u001b[39m# for hook in back_hooks:\u001b[39;00m\n\u001b[0;32m     70\u001b[0m \u001b[39m#     hook.remove()\u001b[39;00m\n\u001b[0;32m     72\u001b[0m remove_all_hooks(model\u001b[39m=\u001b[39mmodel)\n",
      "File \u001b[1;32mc:\\Users\\phill\\Documents\\Deep Learning\\Sparse-GPT-Finetuning\\fsdp_finetune.py:333\u001b[0m, in \u001b[0;36mfsdp_finetune\u001b[1;34m(config)\u001b[0m\n\u001b[0;32m    331\u001b[0m \u001b[39m#args = parser.parse_args()\u001b[39;00m\n\u001b[0;32m    332\u001b[0m args \u001b[39m=\u001b[39m parser\u001b[39m.\u001b[39mparse_args([\u001b[39m'\u001b[39m\u001b[39m--mixed_precision\u001b[39m\u001b[39m'\u001b[39m, \u001b[39m'\u001b[39m\u001b[39mfp16\u001b[39m\u001b[39m'\u001b[39m])\n\u001b[1;32m--> 333\u001b[0m training_function(config, args)\n",
      "File \u001b[1;32mc:\\Users\\phill\\Documents\\Deep Learning\\Sparse-GPT-Finetuning\\fsdp_finetune.py:242\u001b[0m, in \u001b[0;36mtraining_function\u001b[1;34m(config, args)\u001b[0m\n\u001b[0;32m    240\u001b[0m \u001b[39m# We could avoid this line since we set the accelerator with `device_placement=True`.\u001b[39;00m\n\u001b[0;32m    241\u001b[0m batch\u001b[39m.\u001b[39mto(accelerator\u001b[39m.\u001b[39mdevice)\n\u001b[1;32m--> 242\u001b[0m outputs \u001b[39m=\u001b[39m model(\u001b[39m*\u001b[39m\u001b[39m*\u001b[39mbatch, labels\u001b[39m=\u001b[39mbatch[\u001b[39m'\u001b[39m\u001b[39minput_ids\u001b[39m\u001b[39m'\u001b[39m])\n\u001b[0;32m    243\u001b[0m \u001b[39m# print(f\"max memory: {torch.cuda.memory_allocated()}\")\u001b[39;00m\n\u001b[0;32m    244\u001b[0m loss \u001b[39m=\u001b[39m outputs\u001b[39m.\u001b[39mloss\n",
      "File \u001b[1;32mc:\\Users\\phill\\anaconda3\\envs\\pyt-exp\\lib\\site-packages\\torch\\nn\\modules\\module.py:1194\u001b[0m, in \u001b[0;36mModule._call_impl\u001b[1;34m(self, *input, **kwargs)\u001b[0m\n\u001b[0;32m   1190\u001b[0m \u001b[39m# If we don't have any hooks, we want to skip the rest of the logic in\u001b[39;00m\n\u001b[0;32m   1191\u001b[0m \u001b[39m# this function, and just call forward.\u001b[39;00m\n\u001b[0;32m   1192\u001b[0m \u001b[39mif\u001b[39;00m \u001b[39mnot\u001b[39;00m (\u001b[39mself\u001b[39m\u001b[39m.\u001b[39m_backward_hooks \u001b[39mor\u001b[39;00m \u001b[39mself\u001b[39m\u001b[39m.\u001b[39m_forward_hooks \u001b[39mor\u001b[39;00m \u001b[39mself\u001b[39m\u001b[39m.\u001b[39m_forward_pre_hooks \u001b[39mor\u001b[39;00m _global_backward_hooks\n\u001b[0;32m   1193\u001b[0m         \u001b[39mor\u001b[39;00m _global_forward_hooks \u001b[39mor\u001b[39;00m _global_forward_pre_hooks):\n\u001b[1;32m-> 1194\u001b[0m     \u001b[39mreturn\u001b[39;00m forward_call(\u001b[39m*\u001b[39m\u001b[39minput\u001b[39m, \u001b[39m*\u001b[39m\u001b[39m*\u001b[39mkwargs)\n\u001b[0;32m   1195\u001b[0m \u001b[39m# Do not call functions when jit is used\u001b[39;00m\n\u001b[0;32m   1196\u001b[0m full_backward_hooks, non_full_backward_hooks \u001b[39m=\u001b[39m [], []\n",
      "File \u001b[1;32mc:\\Users\\phill\\anaconda3\\envs\\pyt-exp\\lib\\site-packages\\transformers\\models\\opt\\modeling_opt.py:929\u001b[0m, in \u001b[0;36mOPTForCausalLM.forward\u001b[1;34m(self, input_ids, attention_mask, head_mask, past_key_values, inputs_embeds, labels, use_cache, output_attentions, output_hidden_states, return_dict)\u001b[0m\n\u001b[0;32m    926\u001b[0m return_dict \u001b[39m=\u001b[39m return_dict \u001b[39mif\u001b[39;00m return_dict \u001b[39mis\u001b[39;00m \u001b[39mnot\u001b[39;00m \u001b[39mNone\u001b[39;00m \u001b[39melse\u001b[39;00m \u001b[39mself\u001b[39m\u001b[39m.\u001b[39mconfig\u001b[39m.\u001b[39muse_return_dict\n\u001b[0;32m    928\u001b[0m \u001b[39m# decoder outputs consists of (dec_features, layer_state, dec_hidden, dec_attn)\u001b[39;00m\n\u001b[1;32m--> 929\u001b[0m outputs \u001b[39m=\u001b[39m \u001b[39mself\u001b[39;49m\u001b[39m.\u001b[39;49mmodel\u001b[39m.\u001b[39;49mdecoder(\n\u001b[0;32m    930\u001b[0m     input_ids\u001b[39m=\u001b[39;49minput_ids,\n\u001b[0;32m    931\u001b[0m     attention_mask\u001b[39m=\u001b[39;49mattention_mask,\n\u001b[0;32m    932\u001b[0m     head_mask\u001b[39m=\u001b[39;49mhead_mask,\n\u001b[0;32m    933\u001b[0m     past_key_values\u001b[39m=\u001b[39;49mpast_key_values,\n\u001b[0;32m    934\u001b[0m     inputs_embeds\u001b[39m=\u001b[39;49minputs_embeds,\n\u001b[0;32m    935\u001b[0m     use_cache\u001b[39m=\u001b[39;49muse_cache,\n\u001b[0;32m    936\u001b[0m     output_attentions\u001b[39m=\u001b[39;49moutput_attentions,\n\u001b[0;32m    937\u001b[0m     output_hidden_states\u001b[39m=\u001b[39;49moutput_hidden_states,\n\u001b[0;32m    938\u001b[0m     return_dict\u001b[39m=\u001b[39;49mreturn_dict,\n\u001b[0;32m    939\u001b[0m )\n\u001b[0;32m    941\u001b[0m logits \u001b[39m=\u001b[39m \u001b[39mself\u001b[39m\u001b[39m.\u001b[39mlm_head(outputs[\u001b[39m0\u001b[39m])\u001b[39m.\u001b[39mcontiguous()\n\u001b[0;32m    943\u001b[0m loss \u001b[39m=\u001b[39m \u001b[39mNone\u001b[39;00m\n",
      "File \u001b[1;32mc:\\Users\\phill\\anaconda3\\envs\\pyt-exp\\lib\\site-packages\\torch\\nn\\modules\\module.py:1194\u001b[0m, in \u001b[0;36mModule._call_impl\u001b[1;34m(self, *input, **kwargs)\u001b[0m\n\u001b[0;32m   1190\u001b[0m \u001b[39m# If we don't have any hooks, we want to skip the rest of the logic in\u001b[39;00m\n\u001b[0;32m   1191\u001b[0m \u001b[39m# this function, and just call forward.\u001b[39;00m\n\u001b[0;32m   1192\u001b[0m \u001b[39mif\u001b[39;00m \u001b[39mnot\u001b[39;00m (\u001b[39mself\u001b[39m\u001b[39m.\u001b[39m_backward_hooks \u001b[39mor\u001b[39;00m \u001b[39mself\u001b[39m\u001b[39m.\u001b[39m_forward_hooks \u001b[39mor\u001b[39;00m \u001b[39mself\u001b[39m\u001b[39m.\u001b[39m_forward_pre_hooks \u001b[39mor\u001b[39;00m _global_backward_hooks\n\u001b[0;32m   1193\u001b[0m         \u001b[39mor\u001b[39;00m _global_forward_hooks \u001b[39mor\u001b[39;00m _global_forward_pre_hooks):\n\u001b[1;32m-> 1194\u001b[0m     \u001b[39mreturn\u001b[39;00m forward_call(\u001b[39m*\u001b[39m\u001b[39minput\u001b[39m, \u001b[39m*\u001b[39m\u001b[39m*\u001b[39mkwargs)\n\u001b[0;32m   1195\u001b[0m \u001b[39m# Do not call functions when jit is used\u001b[39;00m\n\u001b[0;32m   1196\u001b[0m full_backward_hooks, non_full_backward_hooks \u001b[39m=\u001b[39m [], []\n",
      "File \u001b[1;32mc:\\Users\\phill\\anaconda3\\envs\\pyt-exp\\lib\\site-packages\\transformers\\models\\opt\\modeling_opt.py:693\u001b[0m, in \u001b[0;36mOPTDecoder.forward\u001b[1;34m(self, input_ids, attention_mask, head_mask, past_key_values, inputs_embeds, use_cache, output_attentions, output_hidden_states, return_dict)\u001b[0m\n\u001b[0;32m    684\u001b[0m     layer_outputs \u001b[39m=\u001b[39m torch\u001b[39m.\u001b[39mutils\u001b[39m.\u001b[39mcheckpoint\u001b[39m.\u001b[39mcheckpoint(\n\u001b[0;32m    685\u001b[0m         create_custom_forward(decoder_layer),\n\u001b[0;32m    686\u001b[0m         hidden_states,\n\u001b[1;32m   (...)\u001b[0m\n\u001b[0;32m    689\u001b[0m         \u001b[39mNone\u001b[39;00m,\n\u001b[0;32m    690\u001b[0m     )\n\u001b[0;32m    691\u001b[0m \u001b[39melse\u001b[39;00m:\n\u001b[1;32m--> 693\u001b[0m     layer_outputs \u001b[39m=\u001b[39m decoder_layer(\n\u001b[0;32m    694\u001b[0m         hidden_states,\n\u001b[0;32m    695\u001b[0m         attention_mask\u001b[39m=\u001b[39;49mattention_mask,\n\u001b[0;32m    696\u001b[0m         layer_head_mask\u001b[39m=\u001b[39;49m(head_mask[idx] \u001b[39mif\u001b[39;49;00m head_mask \u001b[39mis\u001b[39;49;00m \u001b[39mnot\u001b[39;49;00m \u001b[39mNone\u001b[39;49;00m \u001b[39melse\u001b[39;49;00m \u001b[39mNone\u001b[39;49;00m),\n\u001b[0;32m    697\u001b[0m         past_key_value\u001b[39m=\u001b[39;49mpast_key_value,\n\u001b[0;32m    698\u001b[0m         output_attentions\u001b[39m=\u001b[39;49moutput_attentions,\n\u001b[0;32m    699\u001b[0m         use_cache\u001b[39m=\u001b[39;49muse_cache,\n\u001b[0;32m    700\u001b[0m     )\n\u001b[0;32m    702\u001b[0m hidden_states \u001b[39m=\u001b[39m layer_outputs[\u001b[39m0\u001b[39m]\n\u001b[0;32m    704\u001b[0m \u001b[39mif\u001b[39;00m use_cache:\n",
      "File \u001b[1;32mc:\\Users\\phill\\anaconda3\\envs\\pyt-exp\\lib\\site-packages\\torch\\nn\\modules\\module.py:1194\u001b[0m, in \u001b[0;36mModule._call_impl\u001b[1;34m(self, *input, **kwargs)\u001b[0m\n\u001b[0;32m   1190\u001b[0m \u001b[39m# If we don't have any hooks, we want to skip the rest of the logic in\u001b[39;00m\n\u001b[0;32m   1191\u001b[0m \u001b[39m# this function, and just call forward.\u001b[39;00m\n\u001b[0;32m   1192\u001b[0m \u001b[39mif\u001b[39;00m \u001b[39mnot\u001b[39;00m (\u001b[39mself\u001b[39m\u001b[39m.\u001b[39m_backward_hooks \u001b[39mor\u001b[39;00m \u001b[39mself\u001b[39m\u001b[39m.\u001b[39m_forward_hooks \u001b[39mor\u001b[39;00m \u001b[39mself\u001b[39m\u001b[39m.\u001b[39m_forward_pre_hooks \u001b[39mor\u001b[39;00m _global_backward_hooks\n\u001b[0;32m   1193\u001b[0m         \u001b[39mor\u001b[39;00m _global_forward_hooks \u001b[39mor\u001b[39;00m _global_forward_pre_hooks):\n\u001b[1;32m-> 1194\u001b[0m     \u001b[39mreturn\u001b[39;00m forward_call(\u001b[39m*\u001b[39m\u001b[39minput\u001b[39m, \u001b[39m*\u001b[39m\u001b[39m*\u001b[39mkwargs)\n\u001b[0;32m   1195\u001b[0m \u001b[39m# Do not call functions when jit is used\u001b[39;00m\n\u001b[0;32m   1196\u001b[0m full_backward_hooks, non_full_backward_hooks \u001b[39m=\u001b[39m [], []\n",
      "File \u001b[1;32mc:\\Users\\phill\\anaconda3\\envs\\pyt-exp\\lib\\site-packages\\transformers\\models\\opt\\modeling_opt.py:348\u001b[0m, in \u001b[0;36mOPTDecoderLayer.forward\u001b[1;34m(self, hidden_states, attention_mask, layer_head_mask, output_attentions, use_cache, past_key_value)\u001b[0m\n\u001b[0;32m    345\u001b[0m     hidden_states \u001b[39m=\u001b[39m \u001b[39mself\u001b[39m\u001b[39m.\u001b[39mfinal_layer_norm(hidden_states)\n\u001b[0;32m    347\u001b[0m hidden_states \u001b[39m=\u001b[39m \u001b[39mself\u001b[39m\u001b[39m.\u001b[39mfc1(hidden_states)\n\u001b[1;32m--> 348\u001b[0m hidden_states \u001b[39m=\u001b[39m \u001b[39mself\u001b[39;49m\u001b[39m.\u001b[39;49mactivation_fn(hidden_states)\n\u001b[0;32m    350\u001b[0m hidden_states \u001b[39m=\u001b[39m \u001b[39mself\u001b[39m\u001b[39m.\u001b[39mfc2(hidden_states)\n\u001b[0;32m    351\u001b[0m hidden_states \u001b[39m=\u001b[39m nn\u001b[39m.\u001b[39mfunctional\u001b[39m.\u001b[39mdropout(hidden_states, p\u001b[39m=\u001b[39m\u001b[39mself\u001b[39m\u001b[39m.\u001b[39mdropout, training\u001b[39m=\u001b[39m\u001b[39mself\u001b[39m\u001b[39m.\u001b[39mtraining)\n",
      "File \u001b[1;32mc:\\Users\\phill\\anaconda3\\envs\\pyt-exp\\lib\\site-packages\\torch\\nn\\modules\\module.py:1194\u001b[0m, in \u001b[0;36mModule._call_impl\u001b[1;34m(self, *input, **kwargs)\u001b[0m\n\u001b[0;32m   1190\u001b[0m \u001b[39m# If we don't have any hooks, we want to skip the rest of the logic in\u001b[39;00m\n\u001b[0;32m   1191\u001b[0m \u001b[39m# this function, and just call forward.\u001b[39;00m\n\u001b[0;32m   1192\u001b[0m \u001b[39mif\u001b[39;00m \u001b[39mnot\u001b[39;00m (\u001b[39mself\u001b[39m\u001b[39m.\u001b[39m_backward_hooks \u001b[39mor\u001b[39;00m \u001b[39mself\u001b[39m\u001b[39m.\u001b[39m_forward_hooks \u001b[39mor\u001b[39;00m \u001b[39mself\u001b[39m\u001b[39m.\u001b[39m_forward_pre_hooks \u001b[39mor\u001b[39;00m _global_backward_hooks\n\u001b[0;32m   1193\u001b[0m         \u001b[39mor\u001b[39;00m _global_forward_hooks \u001b[39mor\u001b[39;00m _global_forward_pre_hooks):\n\u001b[1;32m-> 1194\u001b[0m     \u001b[39mreturn\u001b[39;00m forward_call(\u001b[39m*\u001b[39m\u001b[39minput\u001b[39m, \u001b[39m*\u001b[39m\u001b[39m*\u001b[39mkwargs)\n\u001b[0;32m   1195\u001b[0m \u001b[39m# Do not call functions when jit is used\u001b[39;00m\n\u001b[0;32m   1196\u001b[0m full_backward_hooks, non_full_backward_hooks \u001b[39m=\u001b[39m [], []\n",
      "File \u001b[1;32mc:\\Users\\phill\\anaconda3\\envs\\pyt-exp\\lib\\site-packages\\torch\\nn\\modules\\activation.py:102\u001b[0m, in \u001b[0;36mReLU.forward\u001b[1;34m(self, input)\u001b[0m\n\u001b[0;32m    101\u001b[0m \u001b[39mdef\u001b[39;00m \u001b[39mforward\u001b[39m(\u001b[39mself\u001b[39m, \u001b[39minput\u001b[39m: Tensor) \u001b[39m-\u001b[39m\u001b[39m>\u001b[39m Tensor:\n\u001b[1;32m--> 102\u001b[0m     \u001b[39mreturn\u001b[39;00m F\u001b[39m.\u001b[39;49mrelu(\u001b[39minput\u001b[39;49m, inplace\u001b[39m=\u001b[39;49m\u001b[39mself\u001b[39;49m\u001b[39m.\u001b[39;49minplace)\n",
      "File \u001b[1;32mc:\\Users\\phill\\anaconda3\\envs\\pyt-exp\\lib\\site-packages\\torch\\nn\\functional.py:1457\u001b[0m, in \u001b[0;36mrelu\u001b[1;34m(input, inplace)\u001b[0m\n\u001b[0;32m   1455\u001b[0m     result \u001b[39m=\u001b[39m torch\u001b[39m.\u001b[39mrelu_(\u001b[39minput\u001b[39m)\n\u001b[0;32m   1456\u001b[0m \u001b[39melse\u001b[39;00m:\n\u001b[1;32m-> 1457\u001b[0m     result \u001b[39m=\u001b[39m torch\u001b[39m.\u001b[39;49mrelu(\u001b[39minput\u001b[39;49m)\n\u001b[0;32m   1458\u001b[0m \u001b[39mreturn\u001b[39;00m result\n",
      "\u001b[1;31mOutOfMemoryError\u001b[0m: CUDA out of memory. Tried to allocate 20.00 MiB (GPU 0; 8.00 GiB total capacity; 7.25 GiB already allocated; 0 bytes free; 7.27 GiB reserved in total by PyTorch) If reserved memory is >> allocated memory try setting max_split_size_mb to avoid fragmentation.  See documentation for Memory Management and PYTORCH_CUDA_ALLOC_CONF"
     ]
    }
   ],
   "source": [
    "from utils.iterative_prune_finetune import iterative_sparsegpt_prune_tune\n",
    "from utils.prehook_utils import put_input_hooks,remove_all_hooks,  put_backward_hooks, check_whitelist\n",
    "from utils.prune_utils import sparsegpt_prune, mask_lowest\n",
    "from utils.finetune_utils import finetune_model_inplace\n",
    "from utils.save_utils import mask_from_pruned, unmask_model\n",
    "from fsdp_finetune import fsdp_finetune\n",
    "\n",
    "def get_prop_zeros(model):\n",
    "    return torch.sum(model.get_decoder().layers[0].self_attn.k_proj.weight == 0) / (torch.numel(model.get_decoder().layers[0].self_attn.k_proj.weight))\n",
    "\n",
    "for model_size in ['opt-125m', 'opt-350m', 'opt-1.3b']:\n",
    "    \n",
    "    # Load tokenizer\n",
    "    tokenizer = AutoTokenizer.from_pretrained(f'facebook/{model_size}', padding_side='left')\n",
    "    SPARSITIES = [1, 0.9, 0.7, 0.5, 0.3, 0.2]#0.1, 0.2,0.3,0.5,0.7,0.9,1\n",
    "    model = OPTForCausalLM.from_pretrained(f'facebook/{model_size}', \n",
    "                                           output_attentions=True, \n",
    "                                           output_hidden_states=True).to(device=device)\n",
    "    # model = torch.nn.DataParallel(model, device_ids=[0,1,2,3])\n",
    "    for SPARSENESS in SPARSITIES:\n",
    "        print(f\"sparsity {SPARSENESS}\")\n",
    "        feature_hessians = {}\n",
    "        put_input_hooks(model=model, features=feature_hessians, feature_storage_device='cpu')\n",
    "        all_hooks = put_input_hooks(model=model, features=feature_hessians, feature_storage_device='cpu')\n",
    "        split_model_calibration(model,tokenizer)\n",
    "        \n",
    "        # for n, m in model.named_modules():\n",
    "        #     m.register_forward_pre_hook(None)\n",
    "\n",
    "        # for handle in all_hooks:\n",
    "        #     handle.remove()\n",
    "        remove_all_hooks(model=model)\n",
    "\n",
    "        sparsegpt_prune(model=model, model_name=model_size, \n",
    "                        feature_hessians=feature_hessians, \n",
    "                        EPSILON=EPSILON, SPARSENESS=SPARSENESS, B=B, Bs=Bs, save_model=False)\n",
    "        \n",
    "        print(f\"proportion of zeros: {get_prop_zeros(model)}\")\n",
    "        \n",
    "        # mask_lowest(model=model, amount=1-SPARSENESS)\n",
    "        del feature_hessians\n",
    "\n",
    "        print(f\"Memory allocated after pruning: {torch.cuda.memory_allocated()}\")\n",
    "\n",
    "        torch.cuda.empty_cache()\n",
    "        \n",
    "        back_hooks = put_backward_hooks(model=model)\n",
    "        # for name, param in model.named_parameters():\n",
    "        #     if 'weight' in name and check_whitelist(name):\n",
    "        #         mask = param != 0\n",
    "        #         print(f\"prop nonzeros: {torch.sum(mask) / torch.numel(param)}\")\n",
    "        #         def hook(grad, mask=mask):\n",
    "        #             return grad * mask.float()\n",
    "        #         param.register_hook(hook)\n",
    "        # mask_from_pruned(model=model)\n",
    "\n",
    "        #finetune_model_inplace(model=model, tokenizer=tokenizer, \n",
    "        #                       SPARSITY=SPARSENESS, device=device, EPOCH_COUNT=1, max_step=1000)\n",
    "        #unmask_model(model=model)\n",
    "        config = {\"model\": model, \"lr\": 2e-5, \"num_epochs\": 1,\n",
    "                  \"seed\": 1, \"batch_size\": 16,\n",
    "                  'model_name': model_size,\n",
    "                  'sparsity': SPARSENESS,\"train_steps\": 100,\n",
    "                  'max_step': 100, 'save_model': False}\n",
    "        fsdp_finetune(config)\n",
    "        # fine_tune(model=model, EPOCH_COUNT=1, tokenizer=tokenizer)\n",
    "\n",
    "        # for hook in back_hooks:\n",
    "        #     hook.remove()\n",
    "\n",
    "        remove_all_hooks(model=model)\n",
    "\n",
    "        # unmask_model(model=model)\n",
    "\n",
    "        print(f\"proportion of zeros: {get_prop_zeros(model)}\")\n",
    "\n",
    "        pruned_model_name = f'{model_size}-finetuned-{SPARSENESS}'\n",
    "        torch.save(model.state_dict(), f'pruned_models/{pruned_model_name}-iterative.pt')\n",
    "        print(f\"Memory allocated after fine tuning: {torch.cuda.memory_allocated()}\")\n",
    "        \n",
    "    # Prune using the sparseGPT method, saves as pruned_models/{model_name}-{SPARSENESS}.pt WITHOUT mask\n",
    "    #iterative_sparsegpt_prune_tune(model, model_size, SPARSITIES, feature_hessians, EPSILON, B, Bs, tokenizer, EPOCH_COUNT=10)\n",
    "\n",
    "    del model\n",
    "    torch.cuda.empty_cache()"
   ]
  }
 ],
 "metadata": {
  "kernelspec": {
   "display_name": "Python 3.10.10 64-bit (microsoft store)",
   "language": "python",
   "name": "python3"
  },
  "language_info": {
   "codemirror_mode": {
    "name": "ipython",
    "version": 3
   },
   "file_extension": ".py",
   "mimetype": "text/x-python",
   "name": "python",
   "nbconvert_exporter": "python",
   "pygments_lexer": "ipython3",
   "version": "3.10.10"
  },
  "vscode": {
   "interpreter": {
    "hash": "10a62883c8cf88488dd1d1962da2497146a937f4733084ac36b0a34d78c1145f"
   }
  }
 },
 "nbformat": 4,
 "nbformat_minor": 2
}
