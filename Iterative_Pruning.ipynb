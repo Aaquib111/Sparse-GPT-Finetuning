{
 "cells": [
  {
   "cell_type": "code",
   "execution_count": 1,
   "metadata": {},
   "outputs": [
    {
     "name": "stderr",
     "output_type": "stream",
     "text": [
      "c:\\Users\\phill\\anaconda3\\envs\\pyt-exp\\lib\\site-packages\\tqdm\\auto.py:22: TqdmWarning: IProgress not found. Please update jupyter and ipywidgets. See https://ipywidgets.readthedocs.io/en/stable/user_install.html\n",
      "  from .autonotebook import tqdm as notebook_tqdm\n"
     ]
    }
   ],
   "source": [
    "import torch\n",
    "from torch.nn.utils import prune\n",
    "\n",
    "from tqdm import tqdm\n",
    "\n",
    "from transformers import AutoTokenizer, OPTForCausalLM, pipeline\n",
    "from datasets import load_dataset\n",
    "\n",
    "from calculate_mask import calculate_mask\n",
    "from inverse_hessian import calc_inverse_hessian\n",
    "from input_prehooks import put_input_hooks\n",
    "from testing_module import calculate_perp"
   ]
  },
  {
   "cell_type": "code",
   "execution_count": 2,
   "metadata": {},
   "outputs": [],
   "source": [
    "#DEVICE\n",
    "device = 'cuda' if torch.cuda.is_available() else 'cpu'\n",
    "\n",
    "model_size = \"opt-125m\"\n",
    "\n",
    "model_name = f\"facebook/{model_size}\"\n",
    "# model_name = \"facebook/opt-1.3b\"\n",
    "\n",
    "#Load dataset\n",
    "dataset = load_dataset('wikitext', \"wikitext-2-raw-v1\", streaming=True)\n",
    "\n",
    "# Load tokenizer\n",
    "tokenizer = AutoTokenizer.from_pretrained(model_name, padding_side='left')"
   ]
  },
  {
   "cell_type": "code",
   "execution_count": 3,
   "metadata": {},
   "outputs": [],
   "source": [
    "from collections import OrderedDict\n",
    "from typing import Dict, Callable\n",
    "import torch\n",
    "\n",
    "# def remove_all_hooks(model: torch.nn.Module) -> None:\n",
    "#     for name, child in model._modules.items():\n",
    "#         if child is not None:\n",
    "#             if hasattr(child, \"_forward_hooks\"):\n",
    "#                 child._forward_hooks: Dict[int, Callable] = OrderedDict()\n",
    "#             elif hasattr(child, \"_forward_pre_hooks\"):\n",
    "#                 child._forward_pre_hooks: Dict[int, Callable] = OrderedDict()\n",
    "#             elif hasattr(child, \"_backward_hooks\"):\n",
    "#                 child._backward_hooks: Dict[int, Callable] = OrderedDict()\n",
    "#             remove_all_hooks(child)"
   ]
  },
  {
   "cell_type": "code",
   "execution_count": 4,
   "metadata": {
    "scrolled": true
   },
   "outputs": [],
   "source": [
    "# Calibrate model (get inputs to each layer with calibration data)\n",
    "\n",
    "calibration_size=4\n",
    "token_length=512\n",
    "calibration_batch_size=2\n",
    "\n",
    "EPSILON = 1e-8\n",
    "B = 4\n",
    "Bs = 2\n",
    "\n",
    "# run model on batches of calibration data, then concatenate inputs\n",
    "def split_model_calibration(model):\n",
    "    batch_sentences = []\n",
    "    for i, data in tqdm(enumerate(iter(dataset['train'])), total=calibration_size):\n",
    "        if i < calibration_size + 1:\n",
    "            if len(batch_sentences) >= calibration_batch_size:\n",
    "                with torch.no_grad():\n",
    "                    encoded_input = tokenizer(batch_sentences, return_tensors=\"pt\",\n",
    "                                              padding=\"max_length\", max_length=token_length,\n",
    "                                              truncation=True).to(device=device)\n",
    "                    model(**encoded_input, labels=encoded_input.input_ids)\n",
    "                    batch_sentences = []\n",
    "            batch_sentences.append(data['text'])\n",
    "        else:\n",
    "            break\n",
    "    "
   ]
  },
  {
   "cell_type": "markdown",
   "metadata": {},
   "source": [
    "# Sparsify Model"
   ]
  },
  {
   "cell_type": "code",
   "execution_count": 5,
   "metadata": {},
   "outputs": [
    {
     "name": "stderr",
     "output_type": "stream",
     "text": [
      "5it [00:05,  1.08s/it]                       \n"
     ]
    },
    {
     "ename": "AttributeError",
     "evalue": "'function' object has no attribute 'remove'",
     "output_type": "error",
     "traceback": [
      "\u001b[1;31m---------------------------------------------------------------------------\u001b[0m",
      "\u001b[1;31mAttributeError\u001b[0m                            Traceback (most recent call last)",
      "Cell \u001b[1;32mIn[5], line 17\u001b[0m\n\u001b[0;32m     15\u001b[0m split_model_calibration(model)\n\u001b[0;32m     16\u001b[0m \u001b[39mfor\u001b[39;00m hook \u001b[39min\u001b[39;00m all_hooks:\n\u001b[1;32m---> 17\u001b[0m     hook\u001b[39m.\u001b[39;49mremove()\n\u001b[0;32m     19\u001b[0m torch\u001b[39m.\u001b[39mcuda\u001b[39m.\u001b[39mempty_cache()\n\u001b[0;32m     22\u001b[0m \u001b[39m# set up data\u001b[39;00m\n",
      "\u001b[1;31mAttributeError\u001b[0m: 'function' object has no attribute 'remove'"
     ]
    }
   ],
   "source": [
    "# SparseGPT fine tune loop\n",
    "from SparseGPT_pruning import sparsegpt_prune\n",
    "from trainingv2 import fine_tune\n",
    "from save_pruned_model import mask_from_pruned, unmask_model\n",
    "from torch.utils.data import DataLoader\n",
    "from transformers import AutoModelForMaskedLM, DataCollatorForLanguageModeling\n",
    "\n",
    "\n",
    "# first, calibrate model\n",
    "model = OPTForCausalLM.from_pretrained(model_name, output_attentions=True,\n",
    "                                        output_hidden_states=True).to(device=device) # type: ignore\n",
    "feature_hessians = {}\n",
    "#put_input_hooks(model=model, features=feature_hessians, storage_dir=storage_dir, offload_freq=10000, feature_storage_device='cpu')\n",
    "all_hooks = put_input_hooks(model=model, features=feature_hessians, feature_storage_device='cpu')\n",
    "split_model_calibration(model)\n",
    "for hook in all_hooks:\n",
    "    hook.remove()\n",
    "    \n",
    "torch.cuda.empty_cache()\n",
    "\n",
    "\n",
    "# set up data\n",
    "def encode_tok(examples):\n",
    "    return tokenizer(examples['text'], truncation=True, padding='max_length')\n",
    "#stream c4, training split\n",
    "training_data = load_dataset('wikitext', \"wikitext-2-raw-v1\", split='train', streaming=True)\n",
    "#load tokenizer\n",
    "tokenizer = AutoTokenizer.from_pretrained('facebook/opt-125m')\n",
    "#IMPORTANT: process data while streaming -> remove unnecessary columns in batches\n",
    "training_data = training_data.map(encode_tok, batched=True, remove_columns=[\"text\"])\n",
    "#set data to tensor mode\n",
    "training_data = training_data.with_format(\"torch\")\n",
    "#dataloader from dataloader (mlm=False when training without mask)\n",
    "reformatted_data = DataLoader(training_data.shuffle(), collate_fn=DataCollatorForLanguageModeling(tokenizer, mlm=False))\n",
    "\n",
    "def get_prop_zeros(model):\n",
    "    return torch.sum(model.get_decoder().layers[0].self_attn.k_proj.weight == 0) / (torch.numel(model.get_decoder().layers[0].self_attn.k_proj.weight))\n",
    "\n",
    "# now, fine tune loop\n",
    "# sparseness is defined as proportion of nonzeros (opposite of intuitive)\n",
    "sparseness_sequence = [.9, .8, .7, .6, .5, .4, .3, .2]\n",
    "# sparseness_sequence = [.9, .5, .4]\n",
    "\n",
    "from iterative_prune_finetune import iterative_sparsegpt_prune_tune, iterative_cerebras_prune_tune\n",
    "# iterative_sparsegpt_prune_tune(model=model, model_size=model_size, sparseness_sequence=sparseness_sequence,\n",
    "#  feature_hessians=feature_hessians, EPSILON=EPSILON, B=B, Bs=Bs, training_data=training_data, tokenizer=tokenizer)\n",
    "\n",
    "model.train()\n",
    "print(f\"memory available before prune + fine tuning: {torch.cuda.memory_allocated(0)}\")\n",
    "iterative_cerebras_prune_tune(model=model, model_size=model_size, sparseness_sequence=sparseness_sequence, \n",
    "training_data=training_data, dataloader=reformatted_data, tokenizer=tokenizer, EPOCH_COUNT=2)\n",
    "'''\n",
    "# for sparseness_index in range(len(sparseness_sequence)):\n",
    "for sparseness in sparseness_sequence:\n",
    "\n",
    "    # if sparseness_index == 0:\n",
    "    #     sparseness_dif = sparseness_sequence[sparseness_index]\n",
    "    # else:\n",
    "    #     sparseness_dif = sparseness_sequence[sparseness_index] / sparseness_sequence[sparseness_index -1]\n",
    "    \n",
    "    sparsegpt_prune(model=model, feature_hessians=feature_hessians, SPARSENESS=sparseness, EPSILON=EPSILON, B=B, Bs=Bs)\n",
    "    print(f\"After pruning, Model has {get_prop_zeros(model)}\")\n",
    "\n",
    "    # activate masks\n",
    "    mask_from_pruned(model=model)\n",
    "\n",
    "    fine_tune(model=model, training_data=training_data, EPOCH_COUNT=1, tokenizer=tokenizer)\n",
    "    \n",
    "    print(f\"After fine-tuning, Model has {get_prop_zeros(model)}\")\n",
    "\n",
    "    # deactivate masks\n",
    "    unmask_model(model=model)\n",
    "\n",
    "    pruned_model_name = f'{model_size}-test-{sparseness}'\n",
    "    torch.save(model.state_dict(), f'pruned_models/{pruned_model_name}.pt')\n",
    "\n",
    "    '''"
   ]
  },
  {
   "cell_type": "code",
   "execution_count": null,
   "metadata": {},
   "outputs": [],
   "source": [
    "from torch.utils.data import DataLoader\n",
    "from transformers import DataCollatorForLanguageModeling, OPTForCausalLM\n",
    "\n",
    "# set up data\n",
    "def encode_tok(examples):\n",
    "    return tokenizer(examples['text'], truncation=True, padding='max_length')\n",
    "#stream c4, training split\n",
    "training_data = load_dataset('wikitext', \"wikitext-2-raw-v1\", split='train', streaming=True)\n",
    "#load tokenizer\n",
    "tokenizer = AutoTokenizer.from_pretrained('facebook/opt-125m')\n",
    "#IMPORTANT: process data while streaming -> remove unnecessary columns in batches\n",
    "training_data = training_data.map(encode_tok, batched=True, remove_columns=[\"text\"])\n",
    "#set data to tensor mode\n",
    "training_data = training_data.with_format(\"torch\")\n",
    "\n",
    "for i in range(10):\n",
    "    print(next(iter(training_data)))\n",
    "    reformatted_data = DataLoader(training_data.shuffle(), collate_fn=DataCollatorForLanguageModeling(tokenizer, mlm=False))\n",
    "\n",
    "    t_optim = torch.optim.AdamW(params=model.parameters(), lr=1e-5)\n",
    "    for epoch in range(2):\n",
    "        print(f\"memory allocated before epoch: {torch.cuda.memory_allocated(0)}\")\n",
    "        training_data.set_epoch(epoch)\n",
    "        for i, batch in enumerate(tqdm(reformatted_data, total=5)):\n",
    "            # print(f\"memory allocated start of batch: {torch.cuda.memory_allocated(0)}\")\n",
    "            if i == 5:\n",
    "                break\n",
    "\n",
    "    print(f\"memory allocated after training data: {torch.cuda.memory_allocated(0)}\")"
   ]
  },
  {
   "cell_type": "code",
   "execution_count": null,
   "metadata": {},
   "outputs": [],
   "source": [
    "model = OPTForCausalLM.from_pretrained(model_name, output_attentions=True,\n",
    "                                        output_hidden_states=True).to(device=device) # type: ignore\n",
    "\n",
    "# set up data\n",
    "def encode_tok(examples):\n",
    "    return tokenizer(examples['text'], truncation=True, padding='max_length')\n",
    "#stream c4, training split\n",
    "training_data = load_dataset('wikitext', \"wikitext-2-raw-v1\", split='train', streaming=True)\n",
    "#load tokenizer\n",
    "tokenizer = AutoTokenizer.from_pretrained('facebook/opt-125m')\n",
    "#IMPORTANT: process data while streaming -> remove unnecessary columns in batches\n",
    "training_data = training_data.map(encode_tok, batched=True, remove_columns=[\"text\"])\n",
    "#set data to tensor mode\n",
    "training_data = training_data.with_format(\"torch\")\n",
    "\n",
    "sparsegpt_prune(model=model, feature_hessians=feature_hessians, SPARSENESS=.8, EPSILON=EPSILON, B=B, Bs=Bs)\n",
    "print(f\"After pruning, Model has {get_prop_zeros(model)}\")\n",
    "\n"
   ]
  },
  {
   "cell_type": "code",
   "execution_count": null,
   "metadata": {},
   "outputs": [],
   "source": [
    "\n",
    "mask_from_pruned(model)\n",
    "\n",
    "for n, m in model.named_buffers():\n",
    "    # print(torch.sum(m == 0))\n",
    "    print(m)\n",
    "\n",
    "print(f\"After pruning, Model has {get_prop_zeros(model)}\")"
   ]
  },
  {
   "cell_type": "code",
   "execution_count": null,
   "metadata": {},
   "outputs": [],
   "source": [
    "fine_tune(model=model, training_data=training_data, EPOCH_COUNT=1, tokenizer=tokenizer)\n",
    "\n",
    "print(f\"After fine-tuning, Model has {get_prop_zeros(model)}\")"
   ]
  },
  {
   "cell_type": "code",
   "execution_count": null,
   "metadata": {},
   "outputs": [],
   "source": [
    "for n, m in model.named_buffers():\n",
    "    print(m)"
   ]
  },
  {
   "cell_type": "code",
   "execution_count": null,
   "metadata": {},
   "outputs": [],
   "source": [
    "from input_prehooks import get_feature_storage_name\n",
    "import gc\n",
    "from SparseGPT_pruning import sparsegpt_prune\n",
    "layer_blacklist = ['model.decoder.embed_tokens.weight', 'model.decoder.embed_tokens.bias', 'model.decoder.embed_positions.weight']\n",
    "\n",
    "# Using calibration data (inputs to each intermediate weight layer)\n",
    "# Iterate through named parameters, calculate inverse hessian and calculate mask\n",
    "\n",
    "SPARSENESS_LIST = [0.5]#0.1, 0.2, 0.3, 0.5, 0.7, 0.9\n",
    "for i, SPARSENESS in enumerate(SPARSENESS_LIST):\n",
    "    \n",
    "    # Load model with pre-trained head\n",
    "    model = OPTForCausalLM.from_pretrained(model_name, output_attentions=True,\n",
    "                                           output_hidden_states=True).to(device=device) # type: ignore\n",
    "    \n",
    "    #storage_dir = f'tmp/{model_name}-{SPARSENESS}'\n",
    "    \n",
    "    # First, put in forward hooks\n",
    "    # Don't store inputs, instead store hessians (less data)\n",
    "    # Only store hessians once, as all models take the same hessians\n",
    "    print('------------')\n",
    "    if i == 0:\n",
    "        feature_hessians = {}\n",
    "        #put_input_hooks(model=model, features=feature_hessians, storage_dir=storage_dir, offload_freq=10000, feature_storage_device='cpu')\n",
    "        put_input_hooks(model=model, features=feature_hessians, feature_storage_device='cpu')\n",
    "        split_model_calibration(model)\n",
    "        torch.cuda.empty_cache()\n",
    "    print('-----------')\n",
    "    \n",
    "    sparsegpt_prune(model=model, feature_hessians=feature_hessians, # type: ignore\n",
    "    EPSILON=EPSILON, SPARSENESS=SPARSENESS, B=B, Bs=Bs)\n",
    "\n",
    "    pruned_model_name = f'{model_size}-test-{SPARSENESS}'\n",
    "    # make a dictionary to access module by name\n",
    "    module_lookup_dict = {}\n",
    "    for module_name, module_iter in model.named_modules():\n",
    "        module_lookup_dict[module_name] = module_iter\n",
    "\n",
    "    # without this\n",
    "    param_lookup_dict = {}\n",
    "    param_names = []\n",
    "    for name, param in model.named_parameters():\n",
    "        param_names.append(name)\n",
    "        param_lookup_dict[name] = param\n",
    "    \n",
    "    model.eval()\n",
    "    #model = torch.nn.DataParallel(model, device_ids=[0,1,2,3])\n",
    "    with torch.no_grad():\n",
    "        # for name in tqdm(param_names):\n",
    "\n",
    "    torch.save(model.state_dict(), f'pruned_models/{pruned_model_name}.pt')"
   ]
  },
  {
   "cell_type": "code",
   "execution_count": null,
   "metadata": {},
   "outputs": [],
   "source": [
    "from save_pruned_model import load_unmasked_model, load_masked_model\n",
    "\n",
    "loaded_model = OPTForCausalLM.from_pretrained(f'facebook/{model_size}', output_attentions=True, output_hidden_states=True).to(device=device) # type: ignore\n",
    "# loaded_model = torch.nn.DataParallel(loaded_model, device_ids=[0,1,2,3])\n",
    "load_unmasked_model(loaded_model, f'pruned_models/{model_size}-test-0.5.pt')\n",
    "\n",
    "loaded_model_2 = OPTForCausalLM.from_pretrained(f'facebook/{model_size}', output_attentions=True, output_hidden_states=True).to(device=device) # type: ignore\n",
    "load_masked_model(loaded_model_2, f'pruned_models/{model_size}-test-0.5.pt')\n",
    "\n",
    "def get_prop_zeros(model):\n",
    "    return torch.sum(model.get_decoder().layers[0].self_attn.k_proj.weight == 0) / (torch.sum(model.get_decoder().layers[0].self_attn.k_proj.weight == 0) + torch.sum(model.get_decoder().layers[0].self_attn.k_proj.weight != 0))\n",
    "\n",
    "print(get_prop_zeros(loaded_model))\n",
    "print(get_prop_zeros(model))\n",
    "print(get_prop_zeros(loaded_model_2))\n",
    "# loaded_model.eval()\n",
    "# _ = loaded_model(torch.randint(high=20, size=(1,10)))"
   ]
  },
  {
   "cell_type": "code",
   "execution_count": null,
   "metadata": {},
   "outputs": [],
   "source": [
    "prune_list = []\n",
    "layer_blacklist = ['', 'module','module.model','module.model.decoder',\n",
    "                   'module.model.decoder.embed_tokens',\n",
    "                   'module.model.decoder.embed_tokens',\n",
    "                   'module.model.decoder.embed_positions']\n",
    "for name, module in model.named_modules():\n",
    "    # skip the embed layer or skip norms which have 1 dimension\n",
    "    if name in layer_blacklist or 'norm' in name or not isinstance(module, torch.nn.Module):\n",
    "        continue\n",
    "    prune_list.append((module, 'weight'))"
   ]
  },
  {
   "cell_type": "markdown",
   "metadata": {},
   "source": [
    "# prune to 0s\n",
    "class ThresholdPruning(prune.BasePruningMethod):\n",
    "    PRUNING_TYPE = \"unstructured\"\n",
    "\n",
    "    # default threshold is 0, prunes weights that are already 0 (for training)\n",
    "    def __init__(self, threshold=1e-8):\n",
    "        self.threshold = threshold\n",
    "\n",
    "    def compute_mask(self, tensor, default_mask):\n",
    "        return torch.abs(tensor) >= self.threshold\n",
    "    \n",
    "prune.global_unstructured(prune_list,\n",
    "                          pruning_method=ThresholdPruning)"
   ]
  },
  {
   "cell_type": "code",
   "execution_count": null,
   "metadata": {},
   "outputs": [],
   "source": []
  }
 ],
 "metadata": {
  "kernelspec": {
   "display_name": "pyt-exp",
   "language": "python",
   "name": "python3"
  },
  "language_info": {
   "codemirror_mode": {
    "name": "ipython",
    "version": 3
   },
   "file_extension": ".py",
   "mimetype": "text/x-python",
   "name": "python",
   "nbconvert_exporter": "python",
   "pygments_lexer": "ipython3",
   "version": "3.10.8"
  },
  "vscode": {
   "interpreter": {
    "hash": "8e86ec8e8174c6e268751d4c1c60ae4faf419c25d731f3f2c6b91607c46f997f"
   }
  }
 },
 "nbformat": 4,
 "nbformat_minor": 2
}
