{
 "cells": [
  {
   "cell_type": "markdown",
   "metadata": {},
   "source": [
    "# Calibration Data, Model"
   ]
  },
  {
   "cell_type": "code",
   "execution_count": 16,
   "metadata": {},
   "outputs": [],
   "source": [
    "%%capture\n",
    "from transformers import AutoTokenizer, OPTForCausalLM, pipeline\n",
    "from datasets import load_dataset\n",
    "\n",
    "dataset = load_dataset('c4', 'en', streaming=True)\n",
    "\n",
    "# Load tokenizer\n",
    "tokenizer = AutoTokenizer.from_pretrained(\"facebook/opt-125m\")\n",
    "\n",
    "# Load model with pre-trained head\n",
    "model = OPTForCausalLM.from_pretrained(\"facebook/opt-125m\", output_attentions=True, output_hidden_states=True)\n",
    "\n",
    "generator = pipeline('text-generation', model=\"facebook/opt-125m\")\n",
    "\n",
    "calibration_data = []\n",
    "for i, data in enumerate(iter(dataset['train'])):\n",
    "    if i > 128:\n",
    "        break\n",
    "    tokenized = tokenizer.encode(data['text'], return_tensors=\"pt\", padding=\"max_length\", truncation=True, max_length=2048)\n",
    "    calibration_data.append(tokenized)\n",
    "calibration_data = torch.squeeze(torch.stack(calibration_data)).to(device=device)"
   ]
  },
  {
   "cell_type": "code",
   "execution_count": 11,
   "metadata": {},
   "outputs": [],
   "source": [
    "import torch\n",
    "import numpy as np\n",
    "\n",
    "device = torch.device(\"cuda\" if torch.cuda.is_available() else \"cpu\")\n",
    "\n",
    "def inverse_hessian(X, epsilon=1e-8):\n",
    "    \"\"\"\n",
    "    Calculate the inverse of a positive-definite matrix using the Cholesky decomposition.\n",
    "    Args:\n",
    "    - Hessian (torch.Tensor): positive-definite matrix to be inverted\n",
    "    - epsilon (float): small constant to prevent Hessian from being singular\n",
    "    Returns:\n",
    "    - torch.Tensor: inverted matrix\n",
    "    \"\"\"\n",
    "\n",
    "    hessian = torch.inverse((2 * (X @ torch.transpose(X, 0, 1))) + torch.eye(X.shape[0]) * epsilon)\n",
    "    # Decompose the matrix into a upper triangular matrix\n",
    "    inverse_hessian = torch.transpose(torch.cholesky(hessian, upper=True))\n",
    "    return inverse_hessian\n"
   ]
  },
  {
   "cell_type": "code",
   "execution_count": 17,
   "metadata": {},
   "outputs": [],
   "source": [
    "def sparse_gpt(W, H_inv, p, B, Bs):\n",
    "    # Get the number of rows and columns in W\n",
    "    d_row, d_col = W.shape\n",
    "    \n",
    "    # Initialize the pruning mask M and block quantization errors E to all zeros\n",
    "    M = torch.zeros(d_row, d_col, dtype=torch.bool)\n",
    "    E = torch.zeros(d_row, B)\n",
    "\n",
    "    # Loop over blocks of columns of W\n",
    "    for i in range(0, d_col, B):\n",
    "        # Loop over columns within a block\n",
    "        for j in range(i, min(i + B, d_col)):\n",
    "            # If j is a multiple of Bs, prune a portion of the weights\n",
    "            if j % Bs == 0:\n",
    "                # Get the mask for the largest (1 - p)% of weights based on squared value and inverse hessian\n",
    "\n",
    "                # prune_values is matrix of w^2/H^(-1)_cc\n",
    "                print(\"weights squared and h_inv:\")\n",
    "                print(W[:, j:j+Bs]**2)\n",
    "                print(H_inv[j:j+Bs, j:j+Bs])\n",
    "                \n",
    "                prune_values = W[:, j:j+Bs]**2 / H_inv[j:j+Bs, j:j+Bs].diag().unsqueeze(0)\n",
    "                print(\"prune values: \")\n",
    "                print(prune_values)\n",
    "\n",
    "                cutoff_value = torch.kthvalue(prune_values, int((1 - p) * W.shape[0]), dim=0)[0]\n",
    "                print(\"cutoff value: \")\n",
    "                print(cutoff_value)\n",
    "    \n",
    "                print(\"mask: \")\n",
    "                mask = prune_values > cutoff_value\n",
    "            \n",
    "                \n",
    "                M[:, j:j+Bs] = mask\n",
    "                # Calculate the pruning error for this block\n",
    "                E[:, j-i] = W[:, j] / H_inv[j, j]\n",
    "                # Freeze the weights that are not pruned by multiplying by the pruning mask\n",
    "                E[:, j-i] = (1 - M[:, j]) * E[:, j-i]\n",
    "                # Update the weights in this block based on the pruning error and inverse hessian information\n",
    "                W[:, j:i+B] -= torch.ger(E[:, j-i], H_inv[j, j:i+B])\n",
    "            else:\n",
    "                # Calculate the pruning error for this column\n",
    "                E[:, j-i] = W[:, j] / H_inv[j, j]\n",
    "                # Freeze the weights that are not pruned by multiplying by the pruning mask\n",
    "                E[:, j-i] = (1 - M[:, j]) * E[:, j-i]\n",
    "                # Update the weights in this block based on the pruning error and inverse hessian information\n",
    "                W[:, j:i+B] -= torch.ger(E[:, j-i], H_inv[j, j:i+B])\n",
    "        # Update all remaining weights\n",
    "        W[:, i+B:] -= torch.matmul(E, H_inv[i:i+B, i+B:])\n",
    "    \n",
    "    # Set pruned weights to zero\n",
    "    W = W * M.float()\n",
    "    \n",
    "    return W"
   ]
  },
  {
   "cell_type": "code",
   "execution_count": 13,
   "metadata": {},
   "outputs": [
    {
     "ename": "NameError",
     "evalue": "name 'model' is not defined",
     "output_type": "error",
     "traceback": [
      "\u001b[0;31m---------------------------------------------------------------------------\u001b[0m",
      "\u001b[0;31mNameError\u001b[0m                                 Traceback (most recent call last)",
      "Cell \u001b[0;32mIn[13], line 1\u001b[0m\n\u001b[0;32m----> 1\u001b[0m \u001b[39mfor\u001b[39;00m name, param \u001b[39min\u001b[39;00m model\u001b[39m.\u001b[39mnamed_parameters():\n\u001b[1;32m      2\u001b[0m     \u001b[39mprint\u001b[39m(name)\n\u001b[1;32m      3\u001b[0m     \u001b[39mprint\u001b[39m(param\u001b[39m.\u001b[39mshape)\n",
      "\u001b[0;31mNameError\u001b[0m: name 'model' is not defined"
     ]
    }
   ],
   "source": [
    "for name, param in model.named_parameters():\n",
    "    print(name)\n",
    "    print(param.shape)"
   ]
  },
  {
   "cell_type": "code",
   "execution_count": null,
   "metadata": {},
   "outputs": [],
   "source": []
  }
 ],
 "metadata": {
  "kernelspec": {
   "display_name": "Python 3.10.9 ('pyt')",
   "language": "python",
   "name": "python3"
  },
  "language_info": {
   "codemirror_mode": {
    "name": "ipython",
    "version": 3
   },
   "file_extension": ".py",
   "mimetype": "text/x-python",
   "name": "python",
   "nbconvert_exporter": "python",
   "pygments_lexer": "ipython3",
   "version": "3.10.9"
  },
  "orig_nbformat": 4,
  "vscode": {
   "interpreter": {
    "hash": "01ca8e50707366aa71ffa41d1a1f13415d8b38eae741916c87480058f12910d2"
   }
  }
 },
 "nbformat": 4,
 "nbformat_minor": 2
}
