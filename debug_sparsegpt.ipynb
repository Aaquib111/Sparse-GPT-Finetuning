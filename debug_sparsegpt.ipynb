{
 "cells": [
  {
   "cell_type": "markdown",
   "metadata": {},
   "source": [
    "Action list:\n",
    "- Fix Hessian (figure out why determinant is 0, possibly try larger epsilon)\n",
    "- Add forward hooks to all layers to record input\n",
    "- Iterate through all layers, generate inverse hessian and mask for layers - Vijay\n",
    "- Quantization Strats"
   ]
  },
  {
   "cell_type": "markdown",
   "metadata": {},
   "source": [
    "# Calibration Data, Model"
   ]
  },
  {
   "cell_type": "code",
   "execution_count": null,
   "metadata": {},
   "outputs": [],
   "source": [
    "%%capture\n",
    "from transformers import AutoTokenizer, OPTForCausalLM, OPTModel, pipeline\n",
    "from datasets import load_dataset\n",
    "\n",
    "dataset = load_dataset('c4', 'en', streaming=True)\n",
    "\n",
    "# Load tokenizer\n",
    "tokenizer = AutoTokenizer.from_pretrained(\"facebook/opt-125m\")\n",
    "\n",
    "# Load model with pre-trained head\n",
    "model = OPTModel.from_pretrained(\"facebook/opt-125m\", output_attentions=True, output_hidden_states=True)\n",
    "\n",
    "generator = pipeline('text-generation', model=\"facebook/opt-125m\")\n",
    "\n",
    "calibration_data = []\n",
    "for i, data in enumerate(iter(dataset['train'])):\n",
    "    if i > 1:\n",
    "        break\n",
    "    tokenized = tokenizer.encode(data['text'], return_tensors=\"pt\", padding=\"max_length\", truncation=True, max_length=2048)\n",
    "    calibration_data.append(tokenized)\n",
    "calibration_data = torch.squeeze(torch.stack(calibration_data)).to(device=device)"
   ]
  },
  {
   "cell_type": "code",
   "execution_count": null,
   "metadata": {},
   "outputs": [],
   "source": []
  },
  {
   "cell_type": "code",
   "execution_count": null,
   "metadata": {},
   "outputs": [],
   "source": [
    "# calibration_data.shape\n",
    "for i, data in enumerate(iter(dataset['train'])):\n",
    "    print(data['text'])\n",
    "    break\n",
    "print()\n",
    "\n",
    "output = model.generate(calibration_data, max_length=500, num_return_sequences=1, temperature=0.9, top_p=0.95)\n",
    "print(tokenizer.decode(output[0], skip_special_tokens=True))"
   ]
  },
  {
   "cell_type": "code",
   "execution_count": null,
   "metadata": {},
   "outputs": [],
   "source": [
    "import torch\n",
    "import numpy as np\n",
    "\n",
    "device = torch.device(\"cuda\" if torch.cuda.is_available() else \"cpu\")\n",
    "\n",
    "def inverse_hessian(X, epsilon=0.5):\n",
    "    \"\"\"\n",
    "    Calculate the inverse of a positive-definite matrix using the Cholesky decomposition.\n",
    "    Args:\n",
    "    - Hessian (torch.Tensor): positive-definite matrix to be inverted\n",
    "    - epsilon (float): small constant to prevent Hessian from being singular\n",
    "    Returns:\n",
    "    - torch.Tensor: inverted matrix\n",
    "    \"\"\"\n",
    "    X = X.float()\n",
    "    X = torch.transpose(X, 0, 1)\n",
    "    X = (2 * (X @ torch.transpose(X, 0, 1)))\n",
    "    X = X + torch.eye(X.shape[0]) * epsilon\n",
    "    \n",
    "    # print(f\"num 0s: {torch.sum(X.diag()==0)}\")\n",
    "    \n",
    "    print(f\"sum of diagonal {torch.sum(X.diag())}\")\n",
    "    # print(f\"determinant: {torch.linalg.det(X)}\")\n",
    "\n",
    "    hessian = np.linalg.inv(X)\n",
    "    # Decompose the matrix into a upper triangular matrix\n",
    "    inverse_hessian = torch.transpose(torch.cholesky(hessian, upper=True), 0, 1)\n",
    "    return inverse_hessian\n"
   ]
  },
  {
   "cell_type": "code",
   "execution_count": null,
   "metadata": {},
   "outputs": [],
   "source": [
    "inv_h = inverse_hessian(calibration_data)\n",
    "print(inv_h.shape)"
   ]
  },
  {
   "cell_type": "code",
   "execution_count": null,
   "metadata": {},
   "outputs": [],
   "source": [
    "# W is weights matrix for one layer\n",
    "# H_inv is inverse hessian for one layer\n",
    "# p is proportion of weights to 0\n",
    "# B is lazy block size, low B helps to reduce memory use\n",
    "# Bs is inverse of how often to make masks (e.g. when Bs is 4, make new masks with 20% sparseness every 4 columns)\n",
    "def calculate_mask(W, H_inv, p, B, Bs):\n",
    "    # Get the number of rows and columns in W\n",
    "    d_row, d_col = W.shape\n",
    "    \n",
    "    # Initialize the pruning mask M and block quantization errors E to all zeros\n",
    "    M = torch.zeros(d_row, d_col, dtype=torch.bool)\n",
    "    E = torch.zeros(d_row, B)\n",
    "\n",
    "    # only need to calculate w_square and h_square once\n",
    "    # w_square = torch.square(W)\n",
    "    # h_square = torch.square(H_inv)\n",
    "\n",
    "    # Loop over blocks of columns of W\n",
    "    for i in range(0, d_col, B):\n",
    "        # Loop over columns within a block\n",
    "        for j in range(i, min(i + B, d_col)):\n",
    "            # If j is a multiple of Bs, prune a portion of the weights\n",
    "            if j % Bs == 0:\n",
    "                # Get the mask for the largest (1 - p)% of weights based on squared value and inverse hessian\n",
    "\n",
    "                # prune_values is matrix of w^2/H^(-1)_cc\n",
    "                \n",
    "                w_square_section = torch.square(W[:, j:j+Bs])\n",
    "                h_square_section = torch.square(H_inv[j:j+Bs, j:j+Bs]).diag() # 1 dimensional vector\n",
    "\n",
    "                # print(\"weights squared and h_inv:\")\n",
    "                # print(w_square_section)\n",
    "                # print(h_square_section)\n",
    "\n",
    "                prune_values = w_square_section / h_square_section.unsqueeze(0)\n",
    "                # print(\"prune values: \")\n",
    "                # print(prune_values)\n",
    "\n",
    "                cutoff_value = torch.kthvalue(prune_values, int((1 - p) * d_row), dim=0)[0]\n",
    "                # print(\"cutoff value: \")\n",
    "                # print(cutoff_value)\n",
    "    \n",
    "                # print(\"mask: \")\n",
    "                mask = prune_values > cutoff_value\n",
    "            \n",
    "                M[:, j:j+Bs] = mask\n",
    "\n",
    "            # Calculate the pruning error for this column\n",
    "            E[:, j-i] = W[:, j] / H_inv[j, j]\n",
    "            # Freeze the weights that are not pruned by multiplying by the pruning mask\n",
    "            # Invert mask (~M equivalent to 1 - M)\n",
    "            E[:, j-i] = ~M[:, j] * E[:, j-i]\n",
    "            # Update the weights in this block based on the pruning error and inverse hessian information\n",
    "            W[:, j:i+B] -= torch.ger(E[:, j-i], H_inv[j, j:i+B])\n",
    "        # Update all remaining weights\n",
    "        W[:, i+B:] -= torch.matmul(E, H_inv[i:i+B, i+B:])\n",
    "    \n",
    "    # return mask\n",
    "    return M"
   ]
  },
  {
   "cell_type": "code",
   "execution_count": null,
   "metadata": {},
   "outputs": [],
   "source": [
    "# Load model with pre-trained head\n",
    "model = OPTModel.from_pretrained(\"facebook/opt-125m\", output_attentions=True, output_hidden_states=True)\n",
    "\n",
    "# test on one particular layer: \n",
    "test_param = model.get_decoder().layers[11]\n",
    "print(test_param)\n",
    "\n",
    "for name, param in model.named_parameters():\n",
    "    print(name)\n",
    "    print(param.shape)"
   ]
  },
  {
   "cell_type": "code",
   "execution_count": null,
   "metadata": {},
   "outputs": [],
   "source": [
    "print(model)\n",
    "# print(tokenizer)"
   ]
  },
  {
   "cell_type": "code",
   "execution_count": null,
   "metadata": {},
   "outputs": [],
   "source": [
    "w_matrix = torch.rand(8, 5)\n",
    "h_matrix = torch.rand(5,5)\n",
    "# print(w_matrix)\n",
    "# print(h_matrix)\n",
    "\n",
    "# print(w_matrix / h_matrix.diag()unsqueeze(0))\n",
    "print(calculate_mask(W=w_matrix, H_inv=h_matrix, p=.2, B=1, Bs=1))"
   ]
  },
  {
   "cell_type": "markdown",
   "metadata": {},
   "source": [
    "# Calibration Data, Model"
   ]
  },
  {
   "cell_type": "code",
   "execution_count": null,
   "metadata": {},
   "outputs": [],
   "source": []
  },
  {
   "cell_type": "code",
   "execution_count": null,
   "metadata": {},
   "outputs": [],
   "source": [
    "import torch\n",
    "import numpy as np\n",
    "\n",
    "device = torch.device(\"cuda\" if torch.cuda.is_available() else \"cpu\")\n",
    "\n",
    "def inverse_hessian(X, epsilon=0.5):\n",
    "    \"\"\"\n",
    "    Calculate the inverse of a positive-definite matrix using the Cholesky decomposition.\n",
    "    Args:\n",
    "    - Hessian (torch.Tensor): positive-definite matrix to be inverted\n",
    "    - epsilon (float): small constant to prevent Hessian from being singular\n",
    "    Returns:\n",
    "    - torch.Tensor: inverted matrix\n",
    "    \"\"\"\n",
    "    X = X.float()\n",
    "    X = torch.transpose(X, 0, 1)\n",
    "    X = (2 * (X @ torch.transpose(X, 0, 1)))\n",
    "    X = X + torch.eye(X.shape[0]) * epsilon\n",
    "    \n",
    "    # print(f\"num 0s: {torch.sum(X.diag()==0)}\")\n",
    "    \n",
    "    print(f\"sum of diagonal {torch.sum(X.diag())}\")\n",
    "    # print(f\"determinant: {torch.linalg.det(X)}\")\n",
    "\n",
    "    hessian = np.linalg.inv(X)\n",
    "    # Decompose the matrix into a upper triangular matrix\n",
    "    inverse_hessian = torch.transpose(torch.cholesky(hessian, upper=True), 0, 1)\n",
    "    return inverse_hessian\n"
   ]
  },
  {
   "cell_type": "code",
   "execution_count": null,
   "metadata": {},
   "outputs": [],
   "source": [
    "# W is weights matrix for one layer\n",
    "# H_inv is inverse hessian for one layer\n",
    "# p is proportion of weights to 0\n",
    "# B is lazy block size, low B helps to reduce memory use\n",
    "# Bs is inverse of how often to make masks (e.g. when Bs is 4, make new masks with 20% sparseness every 4 columns)\n",
    "def calculate_mask(W, H_inv, p, B, Bs):\n",
    "    # Get the number of rows and columns in W\n",
    "    d_row, d_col = W.shape\n",
    "    \n",
    "    # Initialize the pruning mask M and block quantization errors E to all zeros\n",
    "    M = torch.zeros(d_row, d_col, dtype=torch.bool)\n",
    "    E = torch.zeros(d_row, B)\n",
    "\n",
    "    # only need to calculate w_square and h_square once\n",
    "    # w_square = torch.square(W)\n",
    "    # h_square = torch.square(H_inv)\n",
    "\n",
    "    # Loop over blocks of columns of W\n",
    "    for i in range(0, d_col, B):\n",
    "        # Loop over columns within a block\n",
    "        for j in range(i, min(i + B, d_col)):\n",
    "            # If j is a multiple of Bs, prune a portion of the weights\n",
    "            if j % Bs == 0:\n",
    "                # Get the mask for the largest (1 - p)% of weights based on squared value and inverse hessian\n",
    "\n",
    "                # prune_values is matrix of w^2/H^(-1)_cc\n",
    "                \n",
    "                w_square_section = torch.square(W[:, j:j+Bs])\n",
    "                h_square_section = torch.square(H_inv[j:j+Bs, j:j+Bs]).diag() # 1 dimensional vector\n",
    "\n",
    "                # print(\"weights squared and h_inv:\")\n",
    "                # print(w_square_section)\n",
    "                # print(h_square_section)\n",
    "\n",
    "                prune_values = w_square_section / h_square_section.unsqueeze(0)\n",
    "                # print(\"prune values: \")\n",
    "                # print(prune_values)\n",
    "\n",
    "                cutoff_value = torch.kthvalue(prune_values, int((1 - p) * d_row), dim=0)[0]\n",
    "                # print(\"cutoff value: \")\n",
    "                # print(cutoff_value)\n",
    "    \n",
    "                # print(\"mask: \")\n",
    "                mask = prune_values > cutoff_value\n",
    "            \n",
    "                M[:, j:j+Bs] = mask\n",
    "\n",
    "            # Calculate the pruning error for this column\n",
    "            E[:, j-i] = W[:, j] / H_inv[j, j]\n",
    "            # Freeze the weights that are not pruned by multiplying by the pruning mask\n",
    "            # Invert mask (~M equivalent to 1 - M)\n",
    "            E[:, j-i] = ~M[:, j] * E[:, j-i]\n",
    "            # Update the weights in this block based on the pruning error and inverse hessian information\n",
    "            W[:, j:i+B] -= torch.ger(E[:, j-i], H_inv[j, j:i+B])\n",
    "        # Update all remaining weights\n",
    "        W[:, i+B:] -= torch.matmul(E, H_inv[i:i+B, i+B:])\n",
    "    \n",
    "    # return mask\n",
    "    return M"
   ]
  },
  {
   "cell_type": "code",
   "execution_count": null,
   "metadata": {},
   "outputs": [],
   "source": [
    "print(model)\n",
    "# print(tokenizer)"
   ]
  }
 ],
 "metadata": {
  "kernelspec": {
   "display_name": "Python 3.10.9 64-bit (microsoft store)",
   "language": "python",
   "name": "python3"
  },
  "language_info": {
   "codemirror_mode": {
    "name": "ipython",
    "version": 3
   },
   "file_extension": ".py",
   "mimetype": "text/x-python",
   "name": "python",
   "nbconvert_exporter": "python",
   "pygments_lexer": "ipython3",
   "version": "3.10.9"
  },
  "orig_nbformat": 4,
  "vscode": {
   "interpreter": {
    "hash": "10a62883c8cf88488dd1d1962da2497146a937f4733084ac36b0a34d78c1145f"
   }
  }
 },
 "nbformat": 4,
 "nbformat_minor": 2
}
