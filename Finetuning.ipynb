{
 "cells": [
  {
   "cell_type": "code",
   "execution_count": 1,
   "id": "141ae67c",
   "metadata": {},
   "outputs": [],
   "source": [
    "import torch\n",
    "from torch.nn.utils import prune\n",
    "\n",
    "from tqdm import tqdm\n",
    "\n",
    "from transformers import AutoTokenizer, OPTForCausalLM, pipeline\n",
    "from datasets import load_dataset\n",
    "\n",
    "from utils.prune_utils import sparsegpt_prune"
   ]
  },
  {
   "cell_type": "code",
   "execution_count": null,
   "id": "6f052acc",
   "metadata": {},
   "outputs": [],
   "source": [
    "#DEVICE\n",
    "device = 'cuda' if torch.cuda.is_available() else 'cpu'\n",
    "\n",
    "#Load dataset\n",
    "dataset = load_dataset('c4', \"en\", streaming=True)"
   ]
  },
  {
   "cell_type": "code",
   "execution_count": null,
   "id": "b3776aaf",
   "metadata": {},
   "outputs": [],
   "source": [
    "# Calibrate model (get inputs to each layer with calibration data)\n",
    "\n",
    "calibration_size=128\n",
    "token_length=2048\n",
    "calibration_batch_size=2\n",
    "\n",
    "EPSILON = 0.01\n",
    "B = 128\n",
    "Bs = 128"
   ]
  },
  {
   "cell_type": "code",
   "execution_count": null,
   "id": "52904c55",
   "metadata": {},
   "outputs": [],
   "source": [
    "from iterative_prune_finetune import iterative_sparsegpt_prune_tune\n",
    "from utils.prehook_utils import put_input_hooks,remove_all_hooks\n",
    "from utils.prune_utils import sparsegpt_prune\n",
    "from utils.finetune_utils import finetune_model_inplace\n",
    "from utils.save_utils import unmask_model, load_masked_model_single\n",
    "from utils.fsdp_finetune import fsdp_finetune\n",
    "\n",
    "for model_size in ['opt-1.3b']:\n",
    "    SPARSITIES = [1, 0.9, 0.7, 0.5, 0.3, 0.2]#0.1, 0.2,0.3,0.5,0.7,0.9,1\n",
    "    \n",
    "    for SPARSENESS in SPARSITIES:\n",
    "        model = OPTForCausalLM.from_pretrained(f'facebook/{model_size}', \n",
    "                                           output_attentions=True, \n",
    "                                           output_hidden_states=True)\n",
    "\n",
    "        load_masked_model_single(model, f'pruned_models/{model_size}-{SPARSENESS}.pt')\n",
    "        torch.cuda.empty_cache()\n",
    "        #finetune_model_inplace(model=model, tokenizer=tokenizer, \n",
    "        #                       SPARSITY=SPARSENESS, device=device, EPOCH_COUNT=1, max_step=1000)\n",
    "        #unmask_model(model=model)\n",
    "        config = {\"model\": model, \"lr\": 2e-5, \"num_epochs\": 1,\n",
    "                  \"seed\": 1, \"batch_size\": 16,\n",
    "                  'model_name': model_size,\n",
    "                  'sparsity': SPARSENESS,\"train_steps\": 10000,\n",
    "                  'max_step': 10000, 'save_model': True}\n",
    "        fsdp_finetune(config)\n",
    "        del model\n",
    "        torch.cuda.empty_cache()"
   ]
  },
  {
   "cell_type": "code",
   "execution_count": null,
   "id": "4bd8a984",
   "metadata": {},
   "outputs": [],
   "source": []
  }
 ],
 "metadata": {
  "kernelspec": {
   "display_name": "Python 3 (ipykernel)",
   "language": "python",
   "name": "python3"
  },
  "language_info": {
   "codemirror_mode": {
    "name": "ipython",
    "version": 3
   },
   "file_extension": ".py",
   "mimetype": "text/x-python",
   "name": "python",
   "nbconvert_exporter": "python",
   "pygments_lexer": "ipython3",
   "version": "3.9.7"
  }
 },
 "nbformat": 4,
 "nbformat_minor": 5
}
