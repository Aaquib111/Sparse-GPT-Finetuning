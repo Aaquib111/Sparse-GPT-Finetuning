{
 "cells": [
  {
   "cell_type": "code",
   "execution_count": 1,
   "metadata": {},
   "outputs": [
    {
     "name": "stderr",
     "output_type": "stream",
     "text": [
      "c:\\Users\\Aaquib\\OneDrive\\Documents\\ICLR\\env\\lib\\site-packages\\tqdm\\auto.py:22: TqdmWarning: IProgress not found. Please update jupyter and ipywidgets. See https://ipywidgets.readthedocs.io/en/stable/user_install.html\n",
      "  from .autonotebook import tqdm as notebook_tqdm\n"
     ]
    }
   ],
   "source": [
    "import torch\n",
    "from torch.nn.utils import prune\n",
    "\n",
    "from transformers import AutoTokenizer, OPTForCausalLM, pipeline\n",
    "from datasets import load_dataset\n",
    "\n",
    "# from calculate_mask import calculate_mask\n",
    "# from inverse_hessian import inverse_hessian\n",
    "from input_prehooks import put_input_hooks"
   ]
  },
  {
   "cell_type": "code",
   "execution_count": 5,
   "metadata": {},
   "outputs": [],
   "source": [
    "#DEVICE\n",
    "device = 'cuda' if torch.cuda.is_available() else 'cpu'\n",
    "\n",
    "#Load dataset\n",
    "dataset = load_dataset('c4', 'en', streaming=True)\n",
    "# Load tokenizer\n",
    "tokenizer = AutoTokenizer.from_pretrained(\"facebook/opt-125m\")\n",
    "# Load model with pre-trained head\n",
    "model = OPTForCausalLM.from_pretrained(\"facebook/opt-125m\", output_attentions=True, output_hidden_states=True)\n",
    "# Load genrator\n",
    "generator = pipeline('text-generation', model=\"facebook/opt-125m\")\n",
    "# Create calibration data\n",
    "calibration_data = []\n",
    "for i, data in enumerate(iter(dataset['train'])):\n",
    "    if i > 15:\n",
    "        break\n",
    "    tokenized = tokenizer.encode(data['text'], return_tensors=\"pt\", padding=\"max_length\", truncation=True, max_length=512)\n",
    "    calibration_data.append(tokenized)\n",
    "calibration_data = torch.squeeze(torch.stack(calibration_data)).to(device=device)"
   ]
  },
  {
   "cell_type": "code",
   "execution_count": 6,
   "metadata": {},
   "outputs": [
    {
     "data": {
      "text/plain": [
       "torch.Size([16, 512])"
      ]
     },
     "execution_count": 6,
     "metadata": {},
     "output_type": "execute_result"
    }
   ],
   "source": [
    "calibration_data.shape"
   ]
  },
  {
   "cell_type": "code",
   "execution_count": 7,
   "metadata": {},
   "outputs": [],
   "source": [
    "# First, put in forward hooks\n",
    "features = {}\n",
    "put_input_hooks(model=model, features=features)\n",
    "\n",
    "# Run calibration data through model at first to calculate features dictionary with\n",
    "# input tensors to each intermediate layer\n",
    "model(calibration_data)\n",
    "\n",
    "# function to get module name from parameter name\n",
    "def get_module_name(param_name):\n",
    "    if param_name[-5:] == \".bias\":\n",
    "        return param_name[:-5], \"bias\"\n",
    "    elif param_name[-7:] == \".weight\":\n",
    "        return param_name[:-7], \"weight\"\n",
    "    else:\n",
    "        return None, None"
   ]
  },
  {
   "cell_type": "code",
   "execution_count": 11,
   "metadata": {},
   "outputs": [
    {
     "ename": "RuntimeError",
     "evalue": "The size of tensor a (736) must match the size of tensor b (480) at non-singleton dimension 1",
     "output_type": "error",
     "traceback": [
      "\u001b[1;31m---------------------------------------------------------------------------\u001b[0m",
      "\u001b[1;31mRuntimeError\u001b[0m                              Traceback (most recent call last)",
      "Cell \u001b[1;32mIn[11], line 128\u001b[0m\n\u001b[0;32m    125\u001b[0m inv_hess \u001b[38;5;241m=\u001b[39m inverse_hessian(torch\u001b[38;5;241m.\u001b[39mtranspose(layer_input[\u001b[38;5;241m0\u001b[39m], \u001b[38;5;241m0\u001b[39m, \u001b[38;5;241m1\u001b[39m), epsilon\u001b[38;5;241m=\u001b[39mEPSILON)\n\u001b[0;32m    127\u001b[0m \u001b[38;5;66;03m# calculate mask\u001b[39;00m\n\u001b[1;32m--> 128\u001b[0m mask \u001b[38;5;241m=\u001b[39m \u001b[43mcalculate_mask\u001b[49m\u001b[43m(\u001b[49m\u001b[43mW\u001b[49m\u001b[38;5;241;43m=\u001b[39;49m\u001b[43mparam\u001b[49m\u001b[43m,\u001b[49m\u001b[43m \u001b[49m\u001b[43mH_inv\u001b[49m\u001b[38;5;241;43m=\u001b[39;49m\u001b[43minv_hess\u001b[49m\u001b[43m,\u001b[49m\u001b[43m \u001b[49m\u001b[43mp\u001b[49m\u001b[38;5;241;43m=\u001b[39;49m\u001b[43mSPARSENESS\u001b[49m\u001b[43m,\u001b[49m\u001b[43m \u001b[49m\u001b[43mB\u001b[49m\u001b[38;5;241;43m=\u001b[39;49m\u001b[43mB\u001b[49m\u001b[43m,\u001b[49m\u001b[43m \u001b[49m\u001b[43mBs\u001b[49m\u001b[38;5;241;43m=\u001b[39;49m\u001b[43mBs\u001b[49m\u001b[43m)\u001b[49m\n\u001b[0;32m    130\u001b[0m \u001b[38;5;66;03m# get module from lookup dictionary by module name\u001b[39;00m\n\u001b[0;32m    131\u001b[0m module \u001b[38;5;241m=\u001b[39m model_lookup_dict[module_name]\n",
      "Cell \u001b[1;32mIn[11], line 69\u001b[0m, in \u001b[0;36mcalculate_mask\u001b[1;34m(W, H_inv, p, B, Bs)\u001b[0m\n\u001b[0;32m     65\u001b[0m         W[:, j:i \u001b[38;5;241m+\u001b[39m B] \u001b[38;5;241m-\u001b[39m\u001b[38;5;241m=\u001b[39m torch\u001b[38;5;241m.\u001b[39mger(E[:, j \u001b[38;5;241m-\u001b[39m i], H_inv[j, j:i \u001b[38;5;241m+\u001b[39m B])\n\u001b[0;32m     67\u001b[0m     \u001b[38;5;66;03m# Update all remaining weights\u001b[39;00m\n\u001b[1;32m---> 69\u001b[0m     W[:, i \u001b[38;5;241m+\u001b[39m B:] \u001b[38;5;241m-\u001b[39m\u001b[38;5;241m=\u001b[39m torch\u001b[38;5;241m.\u001b[39mmatmul(E, H_inv[i:i \u001b[38;5;241m+\u001b[39m B, i \u001b[38;5;241m+\u001b[39m B:])\n\u001b[0;32m     71\u001b[0m \u001b[38;5;66;03m# return mask\u001b[39;00m\n\u001b[0;32m     73\u001b[0m \u001b[38;5;28;01mreturn\u001b[39;00m M\n",
      "\u001b[1;31mRuntimeError\u001b[0m: The size of tensor a (736) must match the size of tensor b (480) at non-singleton dimension 1"
     ]
    }
   ],
   "source": [
    "def calculate_mask(\n",
    "    W,\n",
    "    H_inv,\n",
    "    p,\n",
    "    B,\n",
    "    Bs,\n",
    "    ):\n",
    "\n",
    "    # Get the number of rows and columns in W\n",
    "\n",
    "    (d_row, d_col) = W.shape\n",
    "\n",
    "    # Initialize the pruning mask M and block quantization errors E to all zeros\n",
    "\n",
    "    M = torch.zeros(d_row, d_col, dtype=torch.bool)\n",
    "    E = torch.zeros(d_row, B)\n",
    "\n",
    "    # only need to calculate w_square and h_square once\n",
    "    # Loop over blocks of columns of W (as specified by B)\n",
    "\n",
    "    for i in range(0, d_col, B):\n",
    "\n",
    "        # Loop over columns within a block\n",
    "\n",
    "        for j in range(i, min(i + B, d_col)):\n",
    "\n",
    "            # If j is a multiple of Bs, prune a portion of the weights\n",
    "\n",
    "            if j % Bs == 0:\n",
    "\n",
    "                # Get the mask for the largest (1 - p)% of weights based on squared value and inverse hessian\n",
    "\n",
    "                # ASTERISK: prune_values is matrix of w^2/H^(-1)_cc\n",
    "\n",
    "                # Finding respective sections of hessian and weights matrix\n",
    "                w_square_section = torch.square(W[:, j:j + Bs])\n",
    "                h_square_section = torch.square(H_inv[j:j + Bs, j:j\n",
    "                        + Bs]).diag()  # 1 dimensional vector\n",
    "\n",
    "                # getting the prune values matrix from W and H^-1 sections\n",
    "                prune_values = w_square_section \\\n",
    "                    / h_square_section.unsqueeze(0)\n",
    "\n",
    "                #calulating cutoff for the weights\n",
    "                cutoff_value = torch.kthvalue(prune_values, int((1 - p)\n",
    "                        * d_row), dim=0)[0]\n",
    "\n",
    "                #getting the final mask\n",
    "                mask = prune_values > cutoff_value\n",
    "\n",
    "                #masking\n",
    "                M[:, j:j + Bs] = mask\n",
    "\n",
    "            # Calculate the pruning error for this column\n",
    "\n",
    "            E[:, j - i] = W[:, j] / H_inv[j, j]\n",
    "\n",
    "            # Freeze the weights that are not pruned by multiplying by the pruning mask\n",
    "            # Invert mask (~M equivalent to 1 - M < might be -(M + 1))\n",
    "\n",
    "            E[:, j - i] = ~M[:, j] * E[:, j - i]\n",
    "\n",
    "            # Update the weights in this block based on the pruning error and inverse hessian information\n",
    "\n",
    "            W[:, j:i + B] -= torch.ger(E[:, j - i], H_inv[j, j:i + B])\n",
    "\n",
    "        # Update all remaining weights\n",
    "\n",
    "        W[:, i + B:] -= torch.matmul(E, H_inv[i:i + B, i + B:])\n",
    "\n",
    "    # return mask\n",
    "\n",
    "    return M\n",
    "\n",
    "\n",
    "def inverse_hessian(X, epsilon=0.01):\n",
    "    \"\"\"\n",
    "    Calculate the inverse of a positive-definite matrix using the Cholesky decomposition.\n",
    "    Args:\n",
    "    - X (torch.Tensor): dxn tensor\n",
    "    - epsilon (float): small constant to prevent Hessian from being singular\n",
    "    Returns:\n",
    "    - torch.Tensor: inverted matrix\n",
    "    \"\"\"\n",
    "    X = X.float()\n",
    "    X_T = torch.transpose(X, 0, 1)\n",
    "    identity = torch.eye(X.shape[0], dtype=torch.float32)\n",
    "    H = 2 * (X @ X_T + (epsilon * identity))\n",
    "    # print(torch.linalg.eig(H)[0])\n",
    "    #print(H.shape)\n",
    "    #print(f\"num zeros in hessian: {torch.sum(H == 0)}\")\n",
    "    #print(f\"Determinant is {torch.linalg.det(H)}\")\n",
    "    H_inv = torch.inverse(H)\n",
    "    \n",
    "    #H_inv = torch.cholesky(H_inv).T\n",
    "    H_inv = torch.lu(H_inv)[0].T\n",
    "    \n",
    "    return H_inv\n",
    "\n",
    "\n",
    "# Re-load model with pre-trained head\n",
    "model = OPTForCausalLM.from_pretrained(\"facebook/opt-125m\", output_attentions=True, output_hidden_states=True)\n",
    "\n",
    "# make a dictionary to access module by name\n",
    "model_lookup_dict = {}\n",
    "for module_name, module_iter in model.named_modules():\n",
    "    model_lookup_dict[module_name] = module_iter\n",
    "\n",
    "EPSILON = 1e-8\n",
    "SPARSENESS = .2\n",
    "B = 32\n",
    "Bs = 16\n",
    "\n",
    "# Using calibration data (inputs to each intermediate weight layer)\n",
    "# Iterate through named parameters, calculate inverse hessian and calculate mask\n",
    "with torch.no_grad():\n",
    "    for name, param in model.named_parameters():\n",
    "        module_name, param_type = get_module_name(name)\n",
    "\n",
    "        # apply to weight and bias layers\n",
    "        if param_type == \"weight\" or param_type == \"bias\":\n",
    "            # input to parameter\n",
    "            layer_input = features[module_name]\n",
    "            # calculate inverse hessian\n",
    "            inv_hess = inverse_hessian(torch.transpose(layer_input[0], 0, 1), epsilon=EPSILON)\n",
    "\n",
    "            # calculate mask\n",
    "            mask = calculate_mask(W=param, H_inv=inv_hess, p=SPARSENESS, B=B, Bs=Bs)\n",
    "            \n",
    "            # get module from lookup dictionary by module name\n",
    "            module = model_lookup_dict[module_name]\n",
    "            # apply mask\n",
    "            prune.custom_from_mask(module=module, name=param_type, mask=mask)\n",
    "        break"
   ]
  },
  {
   "cell_type": "code",
   "execution_count": null,
   "metadata": {},
   "outputs": [],
   "source": []
  }
 ],
 "metadata": {
  "kernelspec": {
   "display_name": "Python 3.9.7 ('env': venv)",
   "language": "python",
   "name": "python3"
  },
  "language_info": {
   "codemirror_mode": {
    "name": "ipython",
    "version": 3
   },
   "file_extension": ".py",
   "mimetype": "text/x-python",
   "name": "python",
   "nbconvert_exporter": "python",
   "pygments_lexer": "ipython3",
   "version": "3.9.7"
  },
  "orig_nbformat": 4,
  "vscode": {
   "interpreter": {
    "hash": "b3598d1fcb68810e1ab8d19050593974172dcc02c5f12874feb8b1a070749563"
   }
  }
 },
 "nbformat": 4,
 "nbformat_minor": 2
}
