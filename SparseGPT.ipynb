{
 "cells": [
  {
   "cell_type": "code",
   "execution_count": 1,
   "metadata": {},
   "outputs": [
    {
     "name": "stderr",
     "output_type": "stream",
     "text": [
      "/Users/phillipguo/opt/anaconda3/envs/pyt/lib/python3.10/site-packages/tqdm/auto.py:22: TqdmWarning: IProgress not found. Please update jupyter and ipywidgets. See https://ipywidgets.readthedocs.io/en/stable/user_install.html\n",
      "  from .autonotebook import tqdm as notebook_tqdm\n"
     ]
    }
   ],
   "source": [
    "import torch\n",
    "from torch.nn.utils import prune\n",
    "\n",
    "from tqdm import tqdm\n",
    "\n",
    "from transformers import AutoTokenizer, OPTForCausalLM, pipeline\n",
    "from datasets import load_dataset\n",
    "\n",
    "from calculate_mask import calculate_mask\n",
    "from inverse_hessian import calc_inverse_hessian\n",
    "from input_prehooks import put_input_hooks\n",
    "import gc"
   ]
  },
  {
   "cell_type": "code",
   "execution_count": 2,
   "metadata": {},
   "outputs": [],
   "source": [
    "#DEVICE\n",
    "device = 'cuda' if torch.cuda.is_available() else 'cpu'\n",
    "\n",
    "model_size = \"opt-125m\"\n",
    "\n",
    "model_name = f\"facebook/{model_size}\"\n",
    "# model_name = \"facebook/opt-1.3b\"\n",
    "\n",
    "#Load dataset\n",
    "dataset = load_dataset('c4', 'en', streaming=True)\n",
    "\n",
    "# Load tokenizer\n",
    "tokenizer = AutoTokenizer.from_pretrained(model_name, padding_side='left')"
   ]
  },
  {
   "cell_type": "code",
   "execution_count": 3,
   "metadata": {
    "scrolled": true
   },
   "outputs": [],
   "source": [
    "# Calibrate model (get inputs to each layer with calibration data)\n",
    "\n",
    "calibration_size=4\n",
    "token_length=512\n",
    "calibration_batch_size=2\n",
    "\n",
    "EPSILON = 1e-8\n",
    "B = 4\n",
    "Bs = 2\n",
    "\n",
    "# run model on batches of calibration data, then concatenate inputs\n",
    "def split_model_calibration(model):\n",
    "    batch_sentences = []\n",
    "    for i, data in tqdm(enumerate(iter(dataset['train'])), total=calibration_size):\n",
    "        if i < calibration_size + 1:\n",
    "            if len(batch_sentences) >= calibration_batch_size:\n",
    "                with torch.no_grad():\n",
    "                    encoded_input = tokenizer(batch_sentences, return_tensors=\"pt\",\n",
    "                                              padding=\"max_length\", max_length=token_length,\n",
    "                                              truncation=True).to(device=device)\n",
    "                    model(**encoded_input, labels=encoded_input.input_ids)\n",
    "                    batch_sentences = []\n",
    "            batch_sentences.append(data['text'])\n",
    "        else:\n",
    "            break"
   ]
  },
  {
   "cell_type": "code",
   "execution_count": 6,
   "metadata": {},
   "outputs": [],
   "source": [
    "# SparseGPT fine tune loop\n",
    "import torch\n",
    "\n",
    "def get_prop_zeros(model):\n",
    "    return torch.sum(model.module.get_decoder().layers[0].self_attn.k_proj.weight == 0) / (torch.numel(model.module.get_decoder().layers[0].self_attn.k_proj.weight))\n",
    "\n",
    "# now, fine tune loop\n",
    "# sparseness is defined as proportion of nonzeros (opposite of intuitive)\n",
    "# sparseness_sequence = [.9, .8, .7, .6, .5, .4, .3, .2]\n",
    "# sparseness_sequence = [.9, .5, .4]\n",
    "\n",
    "# model is model to iteratively tune and prune, will do so in place\n",
    "# model_size is for naming the save files (like opt-125m)\n",
    "# sparseness sequence is sequence of sparsities (.8 sparseness = 20% proportion of zeros)\n",
    "# training_data and tokenizer are for fine_tuning (should already be preprocessed with torch.format and stuff)\n",
    "def iterative_sparsegpt_prune_tune(model, model_size, sparseness_sequence, feature_hessians, EPSILON, B, Bs, tokenizer, EPOCH_COUNT):\n",
    "    # for sparseness_index in range(len(sparseness_sequence)):\n",
    "    for sparseness in sparseness_sequence:\n",
    "        sparsegpt_prune(model=model, model_name=model_size, feature_hessians=feature_hessians, SPARSENESS=sparseness, EPSILON=EPSILON, B=B, Bs=Bs)\n",
    "        #del model\n",
    "        #torch.cuda.empty_cache()\n",
    "        #fine_tune(model_name=model_name, EPOCH_COUNT=EPOCH_COUNT, tokenizer=tokenizer)\n",
    "\n",
    "        # deactivate masks\n",
    "        #unmask_model(model=model)\n",
    "        #torch.cuda.empty_cache()\n",
    "        #print(f\"proportion of zeros: {get_prop_zeros(model)}\")\n",
    "\n",
    "        #pruned_model_name = f'{model_size}-finetuned-{sparseness}'\n",
    "        #torch.save(model.state_dict(), f'pruned_models/{pruned_model_name}.pt')\n",
    "        #del model\n",
    "def iterative_cerebras_prune_tune(model, model_size, sparseness_sequence, training_data, tokenizer, EPOCH_COUNT):\n",
    "    for sparseness in sparseness_sequence:\n",
    "\n",
    "        mask_lowest(model=model, amount=1-sparseness)\n",
    "\n",
    "        # activate masks\n",
    "        mask_from_pruned(model=model)\n",
    "\n",
    "        fine_tune(model=model, training_data=training_data, EPOCH_COUNT=EPOCH_COUNT, tokenizer=tokenizer)\n",
    "\n",
    "        # deactivate masks\n",
    "        unmask_model(model=model)\n",
    "\n",
    "        print(f\"proportion of zeros: {get_prop_zeros(model)}\")\n",
    "\n",
    "        pruned_model_name = f'{model_size}-cerebras-tune-and-prune-{sparseness}'\n",
    "        torch.save(model.state_dict(), f'pruned_models/{pruned_model_name}.pt')"
   ]
  },
  {
   "cell_type": "code",
   "execution_count": 7,
   "metadata": {},
   "outputs": [],
   "source": [
    "# function to get module name from parameter name\n",
    "def get_module_name(param_name):\n",
    "    if param_name[-5:] == \".bias\":\n",
    "        return param_name[:-5], \"bias\"\n",
    "    elif param_name[-7:] == \".weight\":\n",
    "        return param_name[:-7], \"weight\"\n",
    "    \n",
    "    elif param_name[-10:] == \".bias_orig\":\n",
    "        return param_name[:-10], \"bias\"\n",
    "    elif param_name[-12:] == \".weight_orig\":\n",
    "        return param_name[:-12], \"weight\"\n",
    "    else:\n",
    "        return None, None\n",
    "\n",
    "# load model without masks\n",
    "def load_unmasked_model(existing_model, state_dict_path):\n",
    "    existing_model.load_state_dict(torch.load(state_dict_path))\n",
    "\n",
    "# prune 0s to a mask, to make training easier (ostensibly)\n",
    "class ZeroPruning(prune.BasePruningMethod):\n",
    "    PRUNING_TYPE = \"unstructured\"\n",
    "\n",
    "    # default threshold is 0, prunes weights that are already 0 (for training)\n",
    "    def __init__(self):\n",
    "        pass\n",
    "\n",
    "    def compute_mask(self, tensor, default_mask):\n",
    "        return torch.abs(tensor) != 0\n",
    "\n",
    "# apply pytorch mask in place of 0 weights to make backpropagation easier for training\n",
    "default_opt_blacklist = ['model.decoder.embed_tokens', 'model.decoder.embed_positions']\n",
    "def mask_from_pruned(model, module_blacklist=default_opt_blacklist):\n",
    "    module_dict = {}\n",
    "    for n, m in model.named_modules():\n",
    "        module_dict[n] = m\n",
    "    # print(module_dict.keys())\n",
    "    \n",
    "    parameter_list = []\n",
    "    param_dict = {}\n",
    "    for n, m in model.named_parameters():\n",
    "        parameter_list.append(n)\n",
    "        param_dict[n] = m\n",
    "    # print(parameter_list)\n",
    "\n",
    "    for n in parameter_list:\n",
    "        module_name, param_type = get_module_name(n)\n",
    "\n",
    "        # skip bias, embed, etc parameters\n",
    "        if module_name in module_blacklist or module_name is None \\\n",
    "            or param_type is None or param_type!=\"weight\":\n",
    "            continue\n",
    "\n",
    "        if len(param_dict[n].shape) < 2:\n",
    "            continue\n",
    "\n",
    "        ZeroPruning.apply(module=module_dict[module_name], name=param_type)\n",
    "# unmask model with 0s in place\n",
    "def unmask_model(model, module_blacklist=default_opt_blacklist):\n",
    "    module_dict = {}\n",
    "    for n, m in model.named_modules():\n",
    "        module_dict[n] = m\n",
    "    # print(module_dict.keys())\n",
    "    \n",
    "    parameter_list = []\n",
    "    param_dict = {}\n",
    "    for n, m in model.named_parameters():\n",
    "        parameter_list.append(n)\n",
    "        param_dict[n] = m\n",
    "    # print(parameter_list)\n",
    "\n",
    "    for n in parameter_list:\n",
    "        module_name, param_type = get_module_name(n)\n",
    "\n",
    "        # skip bias, embed, etc parameters\n",
    "        if module_name in module_blacklist or module_name is None \\\n",
    "            or param_type is None or param_type!=\"weight\":\n",
    "            continue\n",
    "\n",
    "        if len(param_dict[n].shape) < 2:\n",
    "            continue\n",
    "            \n",
    "        prune.remove(module=module_dict[module_name], name=param_type)\n",
    "        torch.cuda.clear_cache()\n",
    "\n",
    "# load model with masks\n",
    "def load_masked_model(existing_model, state_dict_path):\n",
    "\n",
    "    # first load like normal\n",
    "    load_unmasked_model(existing_model, state_dict_path)\n",
    "    \n",
    "    # then reapply the (previously removed) masks\n",
    "    mask_from_pruned(model=existing_model)\n",
    "\n",
    "    # prune.global_unstructured(\n",
    "    #     existing_model.parameters(), pruning_method=ThresholdPruning, threshold=0\n",
    "    # )"
   ]
  },
  {
   "cell_type": "code",
   "execution_count": 8,
   "metadata": {},
   "outputs": [
    {
     "name": "stdout",
     "output_type": "stream",
     "text": [
      "------------\n"
     ]
    },
    {
     "name": "stderr",
     "output_type": "stream",
     "text": [
      "5it [00:09,  1.88s/it]                       \n"
     ]
    },
    {
     "name": "stderr",
     "output_type": "stream",
     "text": [
      "-----------\n"
     ]
    },
    {
     "name": "stderr",
     "output_type": "stream",
     "text": [
      "100%|██████████| 196/196 [02:04<00:00,  1.58it/s]\n"
     ]
    }
   ],
   "source": [
    "from input_prehooks import get_feature_storage_name\n",
    "import gc\n",
    "from SparseGPT_pruning import sparsegpt_prune\n",
    "layer_blacklist = ['model.decoder.embed_tokens.weight', 'model.decoder.embed_tokens.bias', 'model.decoder.embed_positions.weight']\n",
    "\n",
    "# Using calibration data (inputs to each intermediate weight layer)\n",
    "# Iterate through named parameters, calculate inverse hessian and calculate mask\n",
    "\n",
    "SPARSENESS_LIST = [0.5]#0.1, 0.2, 0.3, 0.5, 0.7, 0.9\n",
    "for i, SPARSENESS in enumerate(SPARSENESS_LIST):\n",
    "    \n",
    "    # Load model with pre-trained head\n",
    "    model = OPTForCausalLM.from_pretrained(model_name, output_attentions=True,\n",
    "                                           output_hidden_states=True).to(device=device) # type: ignore\n",
    "    \n",
    "    #storage_dir = f'tmp/{model_name}-{SPARSENESS}'\n",
    "    \n",
    "    # First, put in forward hooks\n",
    "    # Don't store inputs, instead store hessians (less data)\n",
    "    # Only store hessians once, as all models take the same hessians\n",
    "    print('------------')\n",
    "    if i == 0:\n",
    "        feature_hessians = {}\n",
    "        #put_input_hooks(model=model, features=feature_hessians, storage_dir=storage_dir, offload_freq=10000, feature_storage_device='cpu')\n",
    "        put_input_hooks(model=model, features=feature_hessians, feature_storage_device='cpu')\n",
    "        split_model_calibration(model)\n",
    "        torch.cuda.empty_cache()\n",
    "    print('-----------')\n",
    "    \n",
    "    sparsegpt_prune(model=model, feature_hessians=feature_hessians, # type: ignore\n",
    "    EPSILON=EPSILON, SPARSENESS=SPARSENESS, B=B, Bs=Bs)\n",
    "\n",
    "    pruned_model_name = f'{model_size}-test-{SPARSENESS}'\n",
    "    # make a dictionary to access module by name\n",
    "    module_lookup_dict = {}\n",
    "    for module_name, module_iter in model.named_modules():\n",
    "        module_lookup_dict[module_name] = module_iter\n",
    "\n",
    "    # without this\n",
    "    param_lookup_dict = {}\n",
    "    param_names = []\n",
    "    for name, param in model.named_parameters():\n",
    "        param_names.append(name)\n",
    "        param_lookup_dict[name] = param\n",
    "    \n",
    "    model.eval()\n",
    "    #model = torch.nn.DataParallel(model, device_ids=[0,1,2,3])\n",
    "    with torch.no_grad():\n",
    "        # for name in tqdm(param_names):\n",
    "\n",
    "    torch.save(model.state_dict(), f'pruned_models/{pruned_model_name}.pt')"
   ]
  },
  {
   "cell_type": "code",
   "execution_count": 7,
   "metadata": {},
   "outputs": [
    {
     "name": "stdout",
     "output_type": "stream",
     "text": [
      "tensor(0.5007)\n",
      "tensor(0.5007)\n",
      "tensor(0.5007)\n"
     ]
    }
   ],
   "source": [
    "from save_pruned_model import load_unmasked_model, load_masked_model\n",
    "\n",
    "loaded_model = OPTForCausalLM.from_pretrained(f'facebook/{model_size}', output_attentions=True, output_hidden_states=True).to(device=device) # type: ignore\n",
    "# loaded_model = torch.nn.DataParallel(loaded_model, device_ids=[0,1,2,3])\n",
    "load_unmasked_model(loaded_model, f'pruned_models/{model_size}-test-0.5.pt')\n",
    "\n",
    "loaded_model_2 = OPTForCausalLM.from_pretrained(f'facebook/{model_size}', output_attentions=True, output_hidden_states=True).to(device=device) # type: ignore\n",
    "load_masked_model(loaded_model_2, f'pruned_models/{model_size}-test-0.5.pt')\n",
    "\n",
    "def get_prop_zeros(model):\n",
    "    return torch.sum(model.get_decoder().layers[0].self_attn.k_proj.weight == 0) / (torch.sum(model.get_decoder().layers[0].self_attn.k_proj.weight == 0) + torch.sum(model.get_decoder().layers[0].self_attn.k_proj.weight != 0))\n",
    "\n",
    "print(get_prop_zeros(loaded_model))\n",
    "print(get_prop_zeros(model))\n",
    "print(get_prop_zeros(loaded_model_2))\n",
    "# loaded_model.eval()\n",
    "# _ = loaded_model(torch.randint(high=20, size=(1,10)))"
   ]
  },
  {
   "cell_type": "code",
   "execution_count": null,
   "metadata": {},
   "outputs": [],
   "source": [
    "prune_list = []\n",
    "layer_blacklist = ['', 'module','module.model','module.model.decoder',\n",
    "                   'module.model.decoder.embed_tokens',\n",
    "                   'module.model.decoder.embed_tokens',\n",
    "                   'module.model.decoder.embed_positions']\n",
    "for name, module in model.named_modules():\n",
    "    # skip the embed layer or skip norms which have 1 dimension\n",
    "    if name in layer_blacklist or 'norm' in name or not isinstance(module, torch.nn.Module):\n",
    "        continue\n",
    "    prune_list.append((module, 'weight'))"
   ]
  },
  {
   "cell_type": "markdown",
   "metadata": {},
   "source": [
    "# prune to 0s\n",
    "class ThresholdPruning(prune.BasePruningMethod):\n",
    "    PRUNING_TYPE = \"unstructured\"\n",
    "\n",
    "    # default threshold is 0, prunes weights that are already 0 (for training)\n",
    "    def __init__(self, threshold=1e-8):\n",
    "        self.threshold = threshold\n",
    "\n",
    "    def compute_mask(self, tensor, default_mask):\n",
    "        return torch.abs(tensor) >= self.threshold\n",
    "    \n",
    "prune.global_unstructured(prune_list,\n",
    "                          pruning_method=ThresholdPruning)"
   ]
  },
  {
   "cell_type": "code",
   "execution_count": null,
   "metadata": {},
   "outputs": [],
   "source": [
    "sparsegpt_prune()"
   ]
  }
 ],
 "metadata": {
  "kernelspec": {
   "display_name": "Python 3.10.10 64-bit (microsoft store)",
   "language": "python",
   "name": "python3"
  },
  "language_info": {
   "codemirror_mode": {
    "name": "ipython",
    "version": 3
   },
   "file_extension": ".py",
   "mimetype": "text/x-python",
   "name": "python",
   "nbconvert_exporter": "python",
   "pygments_lexer": "ipython3",
   "version": "3.10.10"
  },
  "vscode": {
   "interpreter": {
    "hash": "10a62883c8cf88488dd1d1962da2497146a937f4733084ac36b0a34d78c1145f"
   }
  }
 },
 "nbformat": 4,
 "nbformat_minor": 2
}
