{
 "cells": [
  {
   "cell_type": "code",
   "execution_count": 58,
   "metadata": {},
   "outputs": [],
   "source": [
    "import torch\n",
    "from torch.nn.utils import prune\n",
    "\n",
    "from transformers import AutoTokenizer, OPTForCausalLM, pipeline\n",
    "from datasets import load_dataset\n",
    "\n",
    "#from calculate_mask import calculate_mask\n",
    "#from inverse_hessian import inverse_hessian\n",
    "from input_prehooks import put_input_hooks\n"
   ]
  },
  {
   "cell_type": "code",
   "execution_count": 59,
   "metadata": {},
   "outputs": [
    {
     "data": {
      "text/plain": [
       "tensor([[2.0000e+00, 4.8290e+04, 7.1300e+03,  ..., 1.0000e+00, 1.0000e+00,\n",
       "         1.0000e+00],\n",
       "        [2.0000e+00, 4.8763e+04, 1.1000e+01,  ..., 1.0000e+00, 1.0000e+00,\n",
       "         1.0000e+00],\n",
       "        [2.0000e+00, 5.9700e+02, 1.4189e+04,  ..., 1.0000e+00, 1.0000e+00,\n",
       "         1.0000e+00],\n",
       "        ...,\n",
       "        [2.0000e+00, 3.8700e+02, 9.2980e+03,  ..., 1.0000e+00, 1.0000e+00,\n",
       "         1.0000e+00],\n",
       "        [2.0000e+00, 1.0000e+02, 8.0200e+02,  ..., 1.0000e+00, 1.0000e+00,\n",
       "         1.0000e+00],\n",
       "        [2.0000e+00, 1.3300e+02, 4.0660e+03,  ..., 1.0000e+00, 1.0000e+00,\n",
       "         1.0000e+00]], dtype=torch.float64)"
      ]
     },
     "execution_count": 59,
     "metadata": {},
     "output_type": "execute_result"
    }
   ],
   "source": [
    "#DEVICE\n",
    "device = 'cuda' if torch.cuda.is_available() else 'cpu'\n",
    "\n",
    "\n",
    "#Load dataset\n",
    "dataset = load_dataset('c4', 'en', streaming=True)\n",
    "# Load tokenizer\n",
    "tokenizer = AutoTokenizer.from_pretrained(\"facebook/opt-125m\")\n",
    "# Load model with pre-trained head\n",
    "model = OPTForCausalLM.from_pretrained(\"facebook/opt-125m\", output_attentions=True, output_hidden_states=True)\n",
    "# Load genrator\n",
    "generator = pipeline('text-generation', model=\"facebook/opt-125m\")\n",
    "# Create calibration data\n",
    "calibration_data = []\n",
    "for i, data in enumerate(iter(dataset['train'])):\n",
    "    if i > 7:\n",
    "        break\n",
    "    tokenized = tokenizer.encode(data['text'], return_tensors=\"pt\", padding=\"max_length\", truncation=True, max_length=512)\n",
    "    calibration_data.append(tokenized)\n",
    "#calibration_data = torch.transpose(torch.squeeze(torch.stack(calibration_data)),0,1).to(device=device)\n",
    "calibration_data = torch.squeeze(torch.stack(calibration_data)).to(device=device)\n",
    "calibration_data.double()\n"
   ]
  },
  {
   "cell_type": "code",
   "execution_count": 60,
   "metadata": {},
   "outputs": [
    {
     "data": {
      "text/plain": [
       "torch.Size([8, 512])"
      ]
     },
     "execution_count": 60,
     "metadata": {},
     "output_type": "execute_result"
    }
   ],
   "source": [
    "calibration_data.shape"
   ]
  },
  {
   "cell_type": "code",
   "execution_count": 61,
   "metadata": {},
   "outputs": [],
   "source": [
    "# First, put in forward hooks\n",
    "features = {}\n",
    "put_input_hooks(model=model, features=features)\n",
    "\n",
    "# Run calibration data through model at first to calculate features dictionary with\n",
    "# input tensors to each intermediate layer\n",
    "model(calibration_data)\n",
    "\n",
    "# function to get module name from parameter name\n",
    "def get_module_name(param_name):\n",
    "    if param_name[-5:] == \".bias\":\n",
    "        return param_name[:-5], \"bias\"\n",
    "    elif param_name[-7:] == \".weight\":\n",
    "        return param_name[:-7], \"weight\"\n",
    "    else:\n",
    "        return None, None"
   ]
  },
  {
   "cell_type": "code",
   "execution_count": 93,
   "metadata": {},
   "outputs": [],
   "source": [
    "def calculate_mask(\n",
    "    W,\n",
    "    H_inv,\n",
    "    p,\n",
    "    B,\n",
    "    Bs,\n",
    "    ):\n",
    "\n",
    "    # Get the number of rows and columns in W\n",
    "    (d_row, d_col) = W.shape\n",
    "\n",
    "    # Initialize the pruning mask M and block quantization errors E to all zeros\n",
    "\n",
    "    M = torch.zeros(d_row, d_col, dtype=torch.bool)\n",
    "    E = torch.zeros(d_row, B, dtype=torch.float64)\n",
    "\n",
    "    # only need to calculate w_square and h_square once\n",
    "    # Loop over blocks of columns of W (as specified by B)\n",
    "\n",
    "    for i in range(0, d_col, B):\n",
    "\n",
    "        # Loop over columns within a block\n",
    "\n",
    "        for j in range(i, min(i + B - 1, d_col)):\n",
    "\n",
    "            # If j is a multiple of Bs, prune a portion of the weights\n",
    "\n",
    "            if j % Bs == 0:\n",
    "\n",
    "                # Get the mask for the largest (1 - p)% of weights based on squared value and inverse hessian\n",
    "\n",
    "                # ASTERISK: prune_values is matrix of w^2/H^(-1)_cc\n",
    "\n",
    "                # Finding respective sections of hessian and weights matrix\n",
    "                w_square_section = torch.square(W[:, j:j + Bs])\n",
    "                h_square_section = torch.square(H_inv[:, j:j+ Bs]).diag()  # 1 dimensional vector\n",
    "\n",
    "                # getting the prune values matrix from W and H^-1 sections\n",
    "                prune_values = w_square_section / h_square_section.reshape(1,-1)\n",
    "                num_el_prune = int(p * prune_values.numel())\n",
    "\n",
    "                cutoff_value = torch.topk(prune_values.flatten(), num_el_prune, largest=True).values[-1]\n",
    "\n",
    "                #getting the final mask\n",
    "                mask = prune_values > cutoff_value\n",
    "                #masking\n",
    "                M[:, j:j + Bs] = mask\n",
    "\n",
    "            # Calculate the pruning error for this column\n",
    "\n",
    "            E[:, j - i] = W[:, j] / H_inv[j, j]\n",
    "            # Freeze the weights that are not pruned by multiplying by the pruning mask\n",
    "            # Invert mask (~M equivalent to 1 - M < might be -(M + 1))\n",
    "\n",
    "            E[:, j - i] = (~M[:, j]) * E[:, j - i]\n",
    "\n",
    "            # Update the weights in this block based on the pruning error and inverse hessian information\n",
    "            #print(torch.ger(E[:, j - i], H_inv[j, j:i + B]).shape)\n",
    "            #print(torch.isnan(torch.ger(E[:, j - i], H_inv[j, j:i + B])).sum())\n",
    "            # E[:, j - i] should be 768x1, H_inv[j, j:i + B] should be 1x(i+B-j)\n",
    "            W[:, j:min(i + B, d_col)] = W[:, j:min(i + B, d_col)] - E[:, j - i][:, None] * H_inv[j, j:min(i + B, d_col)]\n",
    "\n",
    "        # Update all remaining weights\n",
    "    \n",
    "        # print(f\"this weight shape: {W[:, i + B:].shape}\")\n",
    "        # print(f\"e shape: {E.shape}\")\n",
    "        # print(f\"Hessian shape: {H_inv[i:i + B, i + B:].shape}\")\n",
    "        #print(E.shape)\n",
    "        #print(H_inv[i:i + B, i + B:].shape)\n",
    "        #print(W[:, i + B:].shape)\n",
    "        W[:, i + B:] -= E @ H_inv[i:i + B, i + B:]\n",
    "\n",
    "    return M\n",
    "\n",
    "\n",
    "def inverse_hessian(X, epsilon=0.01, flattened=False):\n",
    "    \"\"\"\n",
    "    Calculate the inverse of a positive-definite matrix using the Cholesky decomposition.\n",
    "    Args:\n",
    "    - X (torch.Tensor): dxn tensor\n",
    "    - epsilon (float): small constant to prevent Hessian from being singular\n",
    "    Returns:\n",
    "    - torch.Tensor: inverted matrix\n",
    "    \"\"\"\n",
    "    X = X.float()\n",
    "    #print(f\"input shape: {X.shape}\")\n",
    "\n",
    "    if flattened:\n",
    "        X_T = torch.transpose(X, 0, 1)\n",
    "        identity = torch.eye(X.shape[0], dtype=torch.float64)\n",
    "        # print(f\"shape of x @ x_t: {torch.sum(X @ X_T, dim=0).shape}\")\n",
    "        H = 2 * (X @ X_T + (epsilon * identity))\n",
    "    else:\n",
    "        X_T = torch.transpose(X, 1, 2)\n",
    "        identity = torch.eye(X.shape[1], dtype=torch.float64)\n",
    "        # print(f\"shape of x @ x_t: {torch.sum(X @ X_T, dim=0).shape}\")\n",
    "        H = 2 * (torch.sum(X @ X_T, dim=0) + (epsilon * identity))\n",
    "\n",
    "    # print(torch.linalg.eig(H)[0])\n",
    "    # print(f\"H SHAPE: {H.shape}\")\n",
    "    # print(f\"num zeros in hessian: {torch.sum(H == 0)}\")\n",
    "    # print(f\"Determinant is {torch.linalg.det(H)}\")\n",
    "    # print(f\"Hessian Diagonal is {H.diag()}\")\n",
    "    L = torch.linalg.cholesky(H, upper=True)\n",
    "    H_inv = torch.triangular_solve(L, identity, upper=True)[0]\n",
    "    H_inv = H_inv @ H_inv.t()\n",
    "    return H_inv"
   ]
  },
  {
   "cell_type": "code",
   "execution_count": 94,
   "metadata": {},
   "outputs": [],
   "source": [
    "# Re-load model with pre-trained head\n",
    "model = OPTForCausalLM.from_pretrained(\"facebook/opt-125m\", output_attentions=True, output_hidden_states=True)\n",
    "\n",
    "# make a dictionary to access module by name\n",
    "module_lookup_dict = {}\n",
    "for module_name, module_iter in model.named_modules():\n",
    "    module_lookup_dict[module_name] = module_iter\n",
    "EPSILON = 0.0001\n",
    "SPARSENESS = .8\n",
    "B = 2\n",
    "Bs = 2"
   ]
  },
  {
   "cell_type": "code",
   "execution_count": 96,
   "metadata": {},
   "outputs": [
    {
     "name": "stdout",
     "output_type": "stream",
     "text": [
      "model.decoder.layers.0.self_attn.v_proj.weight\n",
      "model.decoder.layers.0.self_attn.q_proj.weight\n",
      "model.decoder.layers.0.self_attn.out_proj.weight\n",
      "model.decoder.layers.0.fc1.weight\n",
      "model.decoder.layers.0.fc2.weight\n"
     ]
    },
    {
     "ename": "_LinAlgError",
     "evalue": "linalg.cholesky: The factorization could not be completed because the input is not positive-definite (the leading minor of order 897 is not positive-definite).",
     "output_type": "error",
     "traceback": [
      "\u001b[1;31m---------------------------------------------------------------------------\u001b[0m",
      "\u001b[1;31m_LinAlgError\u001b[0m                              Traceback (most recent call last)",
      "Cell \u001b[1;32mIn[96], line 39\u001b[0m\n\u001b[0;32m     33\u001b[0m \u001b[38;5;66;03m#print(f\"layer input shape: {layer_input.shape}\")\u001b[39;00m\n\u001b[0;32m     34\u001b[0m \u001b[38;5;66;03m# print(f\"weight shape: {param.shape}\")\u001b[39;00m\n\u001b[0;32m     35\u001b[0m \n\u001b[0;32m     36\u001b[0m \u001b[38;5;66;03m# calculate inverse hessian\u001b[39;00m\n\u001b[0;32m     37\u001b[0m \u001b[38;5;66;03m# check if input is flattened e.g. from 8,512,768 to 4096,768\u001b[39;00m\n\u001b[0;32m     38\u001b[0m \u001b[38;5;28;01mif\u001b[39;00m \u001b[38;5;28mlen\u001b[39m(layer_input\u001b[38;5;241m.\u001b[39mshape) \u001b[38;5;241m==\u001b[39m \u001b[38;5;241m2\u001b[39m:\n\u001b[1;32m---> 39\u001b[0m     inv_hess \u001b[38;5;241m=\u001b[39m \u001b[43minverse_hessian\u001b[49m\u001b[43m(\u001b[49m\u001b[43mtorch\u001b[49m\u001b[38;5;241;43m.\u001b[39;49m\u001b[43mtranspose\u001b[49m\u001b[43m(\u001b[49m\u001b[43mlayer_input\u001b[49m\u001b[43m,\u001b[49m\u001b[43m \u001b[49m\u001b[38;5;241;43m0\u001b[39;49m\u001b[43m,\u001b[49m\u001b[43m \u001b[49m\u001b[38;5;241;43m1\u001b[39;49m\u001b[43m)\u001b[49m\u001b[43m,\u001b[49m\u001b[43m \u001b[49m\u001b[43mepsilon\u001b[49m\u001b[38;5;241;43m=\u001b[39;49m\u001b[43mEPSILON\u001b[49m\u001b[43m,\u001b[49m\u001b[43m \u001b[49m\n\u001b[0;32m     40\u001b[0m \u001b[43m    \u001b[49m\u001b[43mflattened\u001b[49m\u001b[38;5;241;43m=\u001b[39;49m\u001b[38;5;28;43;01mTrue\u001b[39;49;00m\u001b[43m)\u001b[49m\n\u001b[0;32m     42\u001b[0m \u001b[38;5;28;01melse\u001b[39;00m:\n\u001b[0;32m     43\u001b[0m     inv_hess \u001b[38;5;241m=\u001b[39m inverse_hessian(torch\u001b[38;5;241m.\u001b[39mtranspose(layer_input, \u001b[38;5;241m1\u001b[39m, \u001b[38;5;241m2\u001b[39m), epsilon\u001b[38;5;241m=\u001b[39mEPSILON,\n\u001b[0;32m     44\u001b[0m     flattened\u001b[38;5;241m=\u001b[39m\u001b[38;5;28;01mFalse\u001b[39;00m)\n",
      "Cell \u001b[1;32mIn[93], line 104\u001b[0m, in \u001b[0;36minverse_hessian\u001b[1;34m(X, epsilon, flattened)\u001b[0m\n\u001b[0;32m     97\u001b[0m     H \u001b[38;5;241m=\u001b[39m \u001b[38;5;241m2\u001b[39m \u001b[38;5;241m*\u001b[39m (torch\u001b[38;5;241m.\u001b[39msum(X \u001b[38;5;241m@\u001b[39m X_T, dim\u001b[38;5;241m=\u001b[39m\u001b[38;5;241m0\u001b[39m) \u001b[38;5;241m+\u001b[39m (epsilon \u001b[38;5;241m*\u001b[39m identity))\n\u001b[0;32m     99\u001b[0m \u001b[38;5;66;03m# print(torch.linalg.eig(H)[0])\u001b[39;00m\n\u001b[0;32m    100\u001b[0m \u001b[38;5;66;03m# print(f\"H SHAPE: {H.shape}\")\u001b[39;00m\n\u001b[0;32m    101\u001b[0m \u001b[38;5;66;03m# print(f\"num zeros in hessian: {torch.sum(H == 0)}\")\u001b[39;00m\n\u001b[0;32m    102\u001b[0m \u001b[38;5;66;03m# print(f\"Determinant is {torch.linalg.det(H)}\")\u001b[39;00m\n\u001b[0;32m    103\u001b[0m \u001b[38;5;66;03m# print(f\"Hessian Diagonal is {H.diag()}\")\u001b[39;00m\n\u001b[1;32m--> 104\u001b[0m L \u001b[38;5;241m=\u001b[39m \u001b[43mtorch\u001b[49m\u001b[38;5;241;43m.\u001b[39;49m\u001b[43mlinalg\u001b[49m\u001b[38;5;241;43m.\u001b[39;49m\u001b[43mcholesky\u001b[49m\u001b[43m(\u001b[49m\u001b[43mH\u001b[49m\u001b[43m,\u001b[49m\u001b[43m \u001b[49m\u001b[43mupper\u001b[49m\u001b[38;5;241;43m=\u001b[39;49m\u001b[38;5;28;43;01mTrue\u001b[39;49;00m\u001b[43m)\u001b[49m\n\u001b[0;32m    105\u001b[0m H_inv \u001b[38;5;241m=\u001b[39m torch\u001b[38;5;241m.\u001b[39mtriangular_solve(L, identity, upper\u001b[38;5;241m=\u001b[39m\u001b[38;5;28;01mTrue\u001b[39;00m)[\u001b[38;5;241m0\u001b[39m]\n\u001b[0;32m    106\u001b[0m H_inv \u001b[38;5;241m=\u001b[39m H_inv \u001b[38;5;241m@\u001b[39m H_inv\u001b[38;5;241m.\u001b[39mt()\n",
      "\u001b[1;31m_LinAlgError\u001b[0m: linalg.cholesky: The factorization could not be completed because the input is not positive-definite (the leading minor of order 897 is not positive-definite)."
     ]
    }
   ],
   "source": [
    "layer_blacklist = ['model.decoder.embed_tokens.weight', 'model.decoder.embed_tokens.bias',\n",
    "'model.decoder.embed_positions.weight']\n",
    "\n",
    "# Using calibration data (inputs to each intermediate weight layer)\n",
    "# Iterate through named parameters, calculate inverse hessian and calculate mask\n",
    "\n",
    "# without this\n",
    "param_lookup_dict = {}\n",
    "param_names = []\n",
    "for name, param in model.named_parameters():\n",
    "    param_names.append(name)\n",
    "    param_lookup_dict[name] = param\n",
    "\n",
    "with torch.no_grad():\n",
    "    for name in param_names:\n",
    "        param = param_lookup_dict[name]\n",
    "\n",
    "        # skip the embed layer\n",
    "        if name in layer_blacklist:\n",
    "            continue\n",
    "        \n",
    "        # skip norms which have 1 dimension\n",
    "        if len(param.shape) < 2:\n",
    "            continue\n",
    "\n",
    "        module_name, param_type = get_module_name(name)\n",
    "\n",
    "        # apply to weight and bias layers\n",
    "        if param_type == \"weight\" or param_type == \"bias\":\n",
    "            # input to parameter\n",
    "            layer_input = features[module_name][0]\n",
    "            print(name)\n",
    "            #print(f\"layer input shape: {layer_input.shape}\")\n",
    "            # print(f\"weight shape: {param.shape}\")\n",
    "\n",
    "            # calculate inverse hessian\n",
    "            # check if input is flattened e.g. from 8,512,768 to 4096,768\n",
    "            if len(layer_input.shape) == 2:\n",
    "                inv_hess = inverse_hessian(torch.transpose(layer_input, 0, 1), epsilon=EPSILON, \n",
    "                flattened=True)\n",
    "\n",
    "            else:\n",
    "                inv_hess = inverse_hessian(torch.transpose(layer_input, 1, 2), epsilon=EPSILON,\n",
    "                flattened=False)\n",
    "\n",
    "            #print(f\"hessian shape: {inv_hess.shape}\")\n",
    "\n",
    "            # calculate mask\n",
    "            mask = calculate_mask(W=param, H_inv=inv_hess, p=SPARSENESS, B=B, Bs=Bs)\n",
    "            \n",
    "            # get module from lookup dictionary by module name\n",
    "            module = module_lookup_dict[module_name]\n",
    "            # apply mask\n",
    "            prune.custom_from_mask(module=module, name=param_type, mask=mask)"
   ]
  },
  {
   "cell_type": "code",
   "execution_count": null,
   "metadata": {},
   "outputs": [
    {
     "name": "stdout",
     "output_type": "stream",
     "text": [
      "tensor(-0.9334, grad_fn=<MinBackward1>)\n"
     ]
    }
   ],
   "source": [
    "model"
   ]
  },
  {
   "cell_type": "code",
   "execution_count": null,
   "metadata": {},
   "outputs": [],
   "source": []
  }
 ],
 "metadata": {
  "kernelspec": {
   "display_name": "Python 3.9.7 ('env': venv)",
   "language": "python",
   "name": "python3"
  },
  "language_info": {
   "codemirror_mode": {
    "name": "ipython",
    "version": 3
   },
   "file_extension": ".py",
   "mimetype": "text/x-python",
   "name": "python",
   "nbconvert_exporter": "python",
   "pygments_lexer": "ipython3",
   "version": "3.9.7"
  },
  "orig_nbformat": 4,
  "vscode": {
   "interpreter": {
    "hash": "b3598d1fcb68810e1ab8d19050593974172dcc02c5f12874feb8b1a070749563"
   }
  }
 },
 "nbformat": 4,
 "nbformat_minor": 2
}
