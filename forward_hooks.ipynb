{
 "cells": [
  {
   "cell_type": "markdown",
   "metadata": {},
   "source": [
    "A file to test forward hook methods, to extract input for each layer\n",
    "https://kozodoi.me/python/deep%20learning/pytorch/tutorial/2021/05/27/extracting-features.html#2.-Why-do-we-need-intermediate-features?"
   ]
  },
  {
   "cell_type": "code",
   "execution_count": null,
   "metadata": {},
   "outputs": [],
   "source": [
    "%%capture\n",
    "import torch\n",
    "from transformers import AutoTokenizer, OPTForCausalLM, pipeline\n",
    "from datasets import load_dataset\n",
    "device = torch.device(\"cuda\" if torch.cuda.is_available() else \"cpu\")\n",
    "dataset = load_dataset('c4', 'en', streaming=True)\n",
    "model_text = \"facebook/opt-125m\"\n",
    "# Load tokenizer\n",
    "tokenizer = AutoTokenizer.from_pretrained(model_text)\n",
    "\n",
    "# Load model with pre-trained head\n",
    "model = OPTForCausalLM.from_pretrained(model_text, output_attentions=True, output_hidden_states=True)\n",
    "\n",
    "generator = pipeline('text-generation', model=model_text)\n",
    "\n",
    "calibration_data = []\n",
    "for i, data in enumerate(iter(dataset['train'])):\n",
    "    if i > 10:\n",
    "        break\n",
    "    tokenized = tokenizer.encode(data['text'], return_tensors=\"pt\", padding=\"max_length\", truncation=True, max_length=512)\n",
    "    calibration_data.append(tokenized)\n",
    "calibration_data = torch.squeeze(torch.stack(calibration_data)).to(device=device)"
   ]
  },
  {
   "cell_type": "code",
   "execution_count": null,
   "metadata": {},
   "outputs": [],
   "source": [
    "# Load model with pre-trained head\n",
    "model = OPTForCausalLM.from_pretrained(model_text, output_attentions=True, output_hidden_states=True)\n",
    "\n",
    "# Store features from batch\n",
    "features = {}\n",
    "\n",
    "def get_features(name):\n",
    "    def pre_hook(model, input):\n",
    "        # print(input)\n",
    "        try:\n",
    "            print(f\"for {name}, input size is {input[0].shape}\")\n",
    "        except:\n",
    "            pass\n",
    "        features[name] = input\n",
    "    return pre_hook\n",
    "\n",
    "\n",
    "# features_2 = {}\n",
    "# def global_pre_hook():\n",
    "#     def pre_hook(model, input):\n",
    "#         features_2[model.name] = input\n",
    "#     return pre_hook\n",
    "\n",
    "# model.register_module_forward_pre_hook(global_pre_hook())\n",
    "for n, m in model.named_modules():\n",
    "    new_hook = get_features(n)\n",
    "    # print(m)\n",
    "    m.register_forward_pre_hook(new_hook)\n",
    "# model.register_forward_hook(get_features('feats'))\n"
   ]
  },
  {
   "cell_type": "code",
   "execution_count": null,
   "metadata": {},
   "outputs": [],
   "source": [
    "\n",
    "preds = model(calibration_data)\n",
    "# print(features)"
   ]
  },
  {
   "cell_type": "code",
   "execution_count": null,
   "metadata": {},
   "outputs": [],
   "source": [
    "for k in features.keys():\n",
    "    # print(k)\n",
    "    try:\n",
    "        print(features[k])\n",
    "    except:\n",
    "        continue"
   ]
  }
 ],
 "metadata": {
  "kernelspec": {
   "display_name": "pyt-exp",
   "language": "python",
   "name": "python3"
  },
  "language_info": {
   "codemirror_mode": {
    "name": "ipython",
    "version": 3
   },
   "file_extension": ".py",
   "mimetype": "text/x-python",
   "name": "python",
   "nbconvert_exporter": "python",
   "pygments_lexer": "ipython3",
   "version": "3.10.8"
  },
  "orig_nbformat": 4,
  "vscode": {
   "interpreter": {
    "hash": "8e86ec8e8174c6e268751d4c1c60ae4faf419c25d731f3f2c6b91607c46f997f"
   }
  }
 },
 "nbformat": 4,
 "nbformat_minor": 2
}
